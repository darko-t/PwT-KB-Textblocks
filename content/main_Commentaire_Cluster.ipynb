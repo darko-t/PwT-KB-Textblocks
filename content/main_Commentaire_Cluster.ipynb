{
 "cells": [
  {
   "cell_type": "code",
   "execution_count": 2,
   "id": "de74f66d-bb50-488e-a821-a75f3e271cfa",
   "metadata": {},
   "outputs": [
    {
     "name": "stdout",
     "output_type": "stream",
     "text": [
      "Extracting clusters from Commentaire...\n"
     ]
    },
    {
     "name": "stderr",
     "output_type": "stream",
     "text": [
      "Extracting: 100%|█████████████████████████████████████████████████████████████| 27665/27665 [00:00<00:00, 43328.58it/s]\n"
     ]
    },
    {
     "name": "stdout",
     "output_type": "stream",
     "text": [
      "→ Found 4671 unique clusters with ≥7 occurrences.\n",
      "Performing fuzzy clustering with RapidFuzz...\n"
     ]
    },
    {
     "name": "stderr",
     "output_type": "stream",
     "text": [
      "Fuzzy clustering:   2%|█                                                            | 84/4671 [00:00<00:05, 827.27it/s]"
     ]
    },
    {
     "name": "stdout",
     "output_type": "stream",
     "text": [
      "Checkpoint saved at 50 clusters → checkpoint_commentaire_clusters.csv\n",
      "Checkpoint saved at 100 clusters → checkpoint_commentaire_clusters.csv\n"
     ]
    },
    {
     "name": "stderr",
     "output_type": "stream",
     "text": [
      "Fuzzy clustering:   4%|██▏                                                         | 167/4671 [00:00<00:09, 489.41it/s]"
     ]
    },
    {
     "name": "stdout",
     "output_type": "stream",
     "text": [
      "Checkpoint saved at 150 clusters → checkpoint_commentaire_clusters.csv\n",
      "Checkpoint saved at 200 clusters → checkpoint_commentaire_clusters.csv\n"
     ]
    },
    {
     "name": "stderr",
     "output_type": "stream",
     "text": [
      "Fuzzy clustering:   6%|███▍                                                        | 270/4671 [00:00<00:12, 341.28it/s]"
     ]
    },
    {
     "name": "stdout",
     "output_type": "stream",
     "text": [
      "Checkpoint saved at 250 clusters → checkpoint_commentaire_clusters.csv\n"
     ]
    },
    {
     "name": "stderr",
     "output_type": "stream",
     "text": [
      "Fuzzy clustering:   7%|████▎                                                       | 337/4671 [00:01<00:17, 248.84it/s]"
     ]
    },
    {
     "name": "stdout",
     "output_type": "stream",
     "text": [
      "Checkpoint saved at 300 clusters → checkpoint_commentaire_clusters.csv\n"
     ]
    },
    {
     "name": "stderr",
     "output_type": "stream",
     "text": [
      "Fuzzy clustering:   8%|████▉                                                       | 387/4671 [00:01<00:20, 214.05it/s]"
     ]
    },
    {
     "name": "stdout",
     "output_type": "stream",
     "text": [
      "Checkpoint saved at 350 clusters → checkpoint_commentaire_clusters.csv\n"
     ]
    },
    {
     "name": "stderr",
     "output_type": "stream",
     "text": [
      "Fuzzy clustering:   9%|█████▎                                                      | 409/4671 [00:01<00:21, 196.04it/s]"
     ]
    },
    {
     "name": "stdout",
     "output_type": "stream",
     "text": [
      "Checkpoint saved at 400 clusters → checkpoint_commentaire_clusters.csv\n"
     ]
    },
    {
     "name": "stderr",
     "output_type": "stream",
     "text": [
      "Fuzzy clustering:  10%|█████▉                                                      | 464/4671 [00:01<00:26, 161.55it/s]"
     ]
    },
    {
     "name": "stdout",
     "output_type": "stream",
     "text": [
      "Checkpoint saved at 450 clusters → checkpoint_commentaire_clusters.csv\n"
     ]
    },
    {
     "name": "stderr",
     "output_type": "stream",
     "text": [
      "Fuzzy clustering:  11%|██████▌                                                     | 510/4671 [00:02<00:32, 128.28it/s]"
     ]
    },
    {
     "name": "stdout",
     "output_type": "stream",
     "text": [
      "Checkpoint saved at 500 clusters → checkpoint_commentaire_clusters.csv\n"
     ]
    },
    {
     "name": "stderr",
     "output_type": "stream",
     "text": [
      "Fuzzy clustering:  12%|███████▎                                                    | 574/4671 [00:02<00:28, 143.96it/s]"
     ]
    },
    {
     "name": "stdout",
     "output_type": "stream",
     "text": [
      "Checkpoint saved at 550 clusters → checkpoint_commentaire_clusters.csv\n"
     ]
    },
    {
     "name": "stderr",
     "output_type": "stream",
     "text": [
      "Fuzzy clustering:  13%|███████▉                                                    | 620/4671 [00:03<00:25, 162.02it/s]"
     ]
    },
    {
     "name": "stdout",
     "output_type": "stream",
     "text": [
      "Checkpoint saved at 600 clusters → checkpoint_commentaire_clusters.csv\n"
     ]
    },
    {
     "name": "stderr",
     "output_type": "stream",
     "text": [
      "Fuzzy clustering:  14%|████████▌                                                   | 670/4671 [00:03<00:31, 126.82it/s]"
     ]
    },
    {
     "name": "stdout",
     "output_type": "stream",
     "text": [
      "Checkpoint saved at 650 clusters → checkpoint_commentaire_clusters.csv\n"
     ]
    },
    {
     "name": "stderr",
     "output_type": "stream",
     "text": [
      "Fuzzy clustering:  16%|█████████▎                                                  | 726/4671 [00:03<00:28, 136.76it/s]"
     ]
    },
    {
     "name": "stdout",
     "output_type": "stream",
     "text": [
      "Checkpoint saved at 700 clusters → checkpoint_commentaire_clusters.csv\n"
     ]
    },
    {
     "name": "stderr",
     "output_type": "stream",
     "text": [
      "Fuzzy clustering:  17%|█████████▉                                                  | 777/4671 [00:04<00:25, 151.90it/s]"
     ]
    },
    {
     "name": "stdout",
     "output_type": "stream",
     "text": [
      "Checkpoint saved at 750 clusters → checkpoint_commentaire_clusters.csv\n"
     ]
    },
    {
     "name": "stderr",
     "output_type": "stream",
     "text": [
      "Fuzzy clustering:  17%|██████████▍                                                 | 813/4671 [00:04<00:24, 159.48it/s]"
     ]
    },
    {
     "name": "stdout",
     "output_type": "stream",
     "text": [
      "Checkpoint saved at 800 clusters → checkpoint_commentaire_clusters.csv\n"
     ]
    },
    {
     "name": "stderr",
     "output_type": "stream",
     "text": [
      "Fuzzy clustering:  18%|███████████                                                 | 857/4671 [00:04<00:32, 117.29it/s]"
     ]
    },
    {
     "name": "stdout",
     "output_type": "stream",
     "text": [
      "Checkpoint saved at 850 clusters → checkpoint_commentaire_clusters.csv\n"
     ]
    },
    {
     "name": "stderr",
     "output_type": "stream",
     "text": [
      "Fuzzy clustering:  20%|███████████▉                                                 | 912/4671 [00:05<00:42, 88.19it/s]"
     ]
    },
    {
     "name": "stdout",
     "output_type": "stream",
     "text": [
      "Checkpoint saved at 900 clusters → checkpoint_commentaire_clusters.csv\n"
     ]
    },
    {
     "name": "stderr",
     "output_type": "stream",
     "text": [
      "Fuzzy clustering:  21%|████████████▋                                                | 970/4671 [00:06<00:44, 83.94it/s]"
     ]
    },
    {
     "name": "stdout",
     "output_type": "stream",
     "text": [
      "Checkpoint saved at 950 clusters → checkpoint_commentaire_clusters.csv\n"
     ]
    },
    {
     "name": "stderr",
     "output_type": "stream",
     "text": [
      "Fuzzy clustering:  22%|████████████▉                                               | 1009/4671 [00:06<00:43, 84.98it/s]"
     ]
    },
    {
     "name": "stdout",
     "output_type": "stream",
     "text": [
      "Checkpoint saved at 1000 clusters → checkpoint_commentaire_clusters.csv\n"
     ]
    },
    {
     "name": "stderr",
     "output_type": "stream",
     "text": [
      "Fuzzy clustering:  23%|█████████████▌                                              | 1055/4671 [00:07<00:37, 95.80it/s]"
     ]
    },
    {
     "name": "stdout",
     "output_type": "stream",
     "text": [
      "Checkpoint saved at 1050 clusters → checkpoint_commentaire_clusters.csv\n"
     ]
    },
    {
     "name": "stderr",
     "output_type": "stream",
     "text": [
      "Fuzzy clustering:  24%|██████████████▏                                             | 1109/4671 [00:08<01:03, 56.32it/s]"
     ]
    },
    {
     "name": "stdout",
     "output_type": "stream",
     "text": [
      "Checkpoint saved at 1100 clusters → checkpoint_commentaire_clusters.csv\n"
     ]
    },
    {
     "name": "stderr",
     "output_type": "stream",
     "text": [
      "Fuzzy clustering:  25%|███████████████                                             | 1170/4671 [00:08<00:38, 90.02it/s]"
     ]
    },
    {
     "name": "stdout",
     "output_type": "stream",
     "text": [
      "Checkpoint saved at 1150 clusters → checkpoint_commentaire_clusters.csv\n"
     ]
    },
    {
     "name": "stderr",
     "output_type": "stream",
     "text": [
      "Fuzzy clustering:  26%|███████████████▌                                            | 1208/4671 [00:09<00:48, 71.47it/s]"
     ]
    },
    {
     "name": "stdout",
     "output_type": "stream",
     "text": [
      "Checkpoint saved at 1200 clusters → checkpoint_commentaire_clusters.csv\n"
     ]
    },
    {
     "name": "stderr",
     "output_type": "stream",
     "text": [
      "Fuzzy clustering:  27%|████████████████                                            | 1255/4671 [00:10<01:13, 46.55it/s]"
     ]
    },
    {
     "name": "stdout",
     "output_type": "stream",
     "text": [
      "Checkpoint saved at 1250 clusters → checkpoint_commentaire_clusters.csv\n"
     ]
    },
    {
     "name": "stderr",
     "output_type": "stream",
     "text": [
      "Fuzzy clustering:  28%|████████████████▊                                           | 1307/4671 [00:11<01:02, 54.16it/s]"
     ]
    },
    {
     "name": "stdout",
     "output_type": "stream",
     "text": [
      "Checkpoint saved at 1300 clusters → checkpoint_commentaire_clusters.csv\n"
     ]
    },
    {
     "name": "stderr",
     "output_type": "stream",
     "text": [
      "Fuzzy clustering:  29%|█████████████████▌                                          | 1367/4671 [00:12<00:50, 65.29it/s]"
     ]
    },
    {
     "name": "stdout",
     "output_type": "stream",
     "text": [
      "Checkpoint saved at 1350 clusters → checkpoint_commentaire_clusters.csv\n"
     ]
    },
    {
     "name": "stderr",
     "output_type": "stream",
     "text": [
      "Fuzzy clustering:  30%|██████████████████▏                                         | 1413/4671 [00:13<00:41, 78.61it/s]"
     ]
    },
    {
     "name": "stdout",
     "output_type": "stream",
     "text": [
      "Checkpoint saved at 1400 clusters → checkpoint_commentaire_clusters.csv\n"
     ]
    },
    {
     "name": "stderr",
     "output_type": "stream",
     "text": [
      "Fuzzy clustering:  31%|██████████████████▊                                         | 1467/4671 [00:14<00:47, 67.28it/s]"
     ]
    },
    {
     "name": "stdout",
     "output_type": "stream",
     "text": [
      "Checkpoint saved at 1450 clusters → checkpoint_commentaire_clusters.csv\n"
     ]
    },
    {
     "name": "stderr",
     "output_type": "stream",
     "text": [
      "Fuzzy clustering:  32%|███████████████████▎                                        | 1506/4671 [00:15<01:11, 44.30it/s]"
     ]
    },
    {
     "name": "stdout",
     "output_type": "stream",
     "text": [
      "Checkpoint saved at 1500 clusters → checkpoint_commentaire_clusters.csv\n"
     ]
    },
    {
     "name": "stderr",
     "output_type": "stream",
     "text": [
      "Fuzzy clustering:  33%|███████████████████▉                                        | 1556/4671 [00:15<00:56, 54.98it/s]"
     ]
    },
    {
     "name": "stdout",
     "output_type": "stream",
     "text": [
      "Checkpoint saved at 1550 clusters → checkpoint_commentaire_clusters.csv\n"
     ]
    },
    {
     "name": "stderr",
     "output_type": "stream",
     "text": [
      "Fuzzy clustering:  34%|████████████████████▌                                       | 1605/4671 [00:16<00:55, 55.48it/s]"
     ]
    },
    {
     "name": "stdout",
     "output_type": "stream",
     "text": [
      "Checkpoint saved at 1600 clusters → checkpoint_commentaire_clusters.csv\n"
     ]
    },
    {
     "name": "stderr",
     "output_type": "stream",
     "text": [
      "Fuzzy clustering:  35%|█████████████████████▎                                      | 1657/4671 [00:17<00:53, 56.62it/s]"
     ]
    },
    {
     "name": "stdout",
     "output_type": "stream",
     "text": [
      "Checkpoint saved at 1650 clusters → checkpoint_commentaire_clusters.csv\n"
     ]
    },
    {
     "name": "stderr",
     "output_type": "stream",
     "text": [
      "Fuzzy clustering:  37%|█████████████████████▉                                      | 1705/4671 [00:18<01:07, 44.18it/s]"
     ]
    },
    {
     "name": "stdout",
     "output_type": "stream",
     "text": [
      "Checkpoint saved at 1700 clusters → checkpoint_commentaire_clusters.csv\n"
     ]
    },
    {
     "name": "stderr",
     "output_type": "stream",
     "text": [
      "Fuzzy clustering:  38%|██████████████████████▋                                     | 1762/4671 [00:20<00:47, 61.75it/s]"
     ]
    },
    {
     "name": "stdout",
     "output_type": "stream",
     "text": [
      "Checkpoint saved at 1750 clusters → checkpoint_commentaire_clusters.csv\n"
     ]
    },
    {
     "name": "stderr",
     "output_type": "stream",
     "text": [
      "Fuzzy clustering:  39%|███████████████████████▏                                    | 1805/4671 [00:20<01:00, 47.28it/s]"
     ]
    },
    {
     "name": "stdout",
     "output_type": "stream",
     "text": [
      "Checkpoint saved at 1800 clusters → checkpoint_commentaire_clusters.csv\n"
     ]
    },
    {
     "name": "stderr",
     "output_type": "stream",
     "text": [
      "Fuzzy clustering:  40%|███████████████████████▊                                    | 1853/4671 [00:21<00:57, 49.03it/s]"
     ]
    },
    {
     "name": "stdout",
     "output_type": "stream",
     "text": [
      "Checkpoint saved at 1850 clusters → checkpoint_commentaire_clusters.csv\n"
     ]
    },
    {
     "name": "stderr",
     "output_type": "stream",
     "text": [
      "Fuzzy clustering:  41%|████████████████████████▌                                   | 1908/4671 [00:23<00:54, 50.59it/s]"
     ]
    },
    {
     "name": "stdout",
     "output_type": "stream",
     "text": [
      "Checkpoint saved at 1900 clusters → checkpoint_commentaire_clusters.csv\n"
     ]
    },
    {
     "name": "stderr",
     "output_type": "stream",
     "text": [
      "Fuzzy clustering:  42%|█████████████████████████▎                                  | 1966/4671 [00:24<00:38, 70.24it/s]"
     ]
    },
    {
     "name": "stdout",
     "output_type": "stream",
     "text": [
      "Checkpoint saved at 1950 clusters → checkpoint_commentaire_clusters.csv\n"
     ]
    },
    {
     "name": "stderr",
     "output_type": "stream",
     "text": [
      "Fuzzy clustering:  43%|█████████████████████████▋                                  | 2002/4671 [00:24<00:47, 56.40it/s]"
     ]
    },
    {
     "name": "stdout",
     "output_type": "stream",
     "text": [
      "Checkpoint saved at 2000 clusters → checkpoint_commentaire_clusters.csv\n"
     ]
    },
    {
     "name": "stderr",
     "output_type": "stream",
     "text": [
      "Fuzzy clustering:  44%|██████████████████████████▎                                 | 2053/4671 [00:25<01:02, 41.69it/s]"
     ]
    },
    {
     "name": "stdout",
     "output_type": "stream",
     "text": [
      "Checkpoint saved at 2050 clusters → checkpoint_commentaire_clusters.csv\n"
     ]
    },
    {
     "name": "stderr",
     "output_type": "stream",
     "text": [
      "Fuzzy clustering:  45%|███████████████████████████                                 | 2103/4671 [00:27<01:11, 36.06it/s]"
     ]
    },
    {
     "name": "stdout",
     "output_type": "stream",
     "text": [
      "Checkpoint saved at 2100 clusters → checkpoint_commentaire_clusters.csv\n"
     ]
    },
    {
     "name": "stderr",
     "output_type": "stream",
     "text": [
      "Fuzzy clustering:  46%|███████████████████████████▊                                | 2162/4671 [00:29<01:09, 36.30it/s]"
     ]
    },
    {
     "name": "stdout",
     "output_type": "stream",
     "text": [
      "Checkpoint saved at 2150 clusters → checkpoint_commentaire_clusters.csv\n"
     ]
    },
    {
     "name": "stderr",
     "output_type": "stream",
     "text": [
      "Fuzzy clustering:  47%|████████████████████████████▎                               | 2201/4671 [00:29<01:01, 39.93it/s]"
     ]
    },
    {
     "name": "stdout",
     "output_type": "stream",
     "text": [
      "Checkpoint saved at 2200 clusters → checkpoint_commentaire_clusters.csv\n"
     ]
    },
    {
     "name": "stderr",
     "output_type": "stream",
     "text": [
      "Fuzzy clustering:  48%|█████████████████████████████                               | 2258/4671 [00:31<00:55, 43.24it/s]"
     ]
    },
    {
     "name": "stdout",
     "output_type": "stream",
     "text": [
      "Checkpoint saved at 2250 clusters → checkpoint_commentaire_clusters.csv\n"
     ]
    },
    {
     "name": "stderr",
     "output_type": "stream",
     "text": [
      "Fuzzy clustering:  49%|█████████████████████████████▌                              | 2305/4671 [00:32<00:49, 47.64it/s]"
     ]
    },
    {
     "name": "stdout",
     "output_type": "stream",
     "text": [
      "Checkpoint saved at 2300 clusters → checkpoint_commentaire_clusters.csv\n"
     ]
    },
    {
     "name": "stderr",
     "output_type": "stream",
     "text": [
      "Fuzzy clustering:  50%|██████████████████████████████▏                             | 2353/4671 [00:33<01:14, 31.01it/s]"
     ]
    },
    {
     "name": "stdout",
     "output_type": "stream",
     "text": [
      "Checkpoint saved at 2350 clusters → checkpoint_commentaire_clusters.csv\n"
     ]
    },
    {
     "name": "stderr",
     "output_type": "stream",
     "text": [
      "Fuzzy clustering:  51%|██████████████████████████████▊                             | 2398/4671 [00:34<00:50, 45.10it/s]"
     ]
    },
    {
     "name": "stdout",
     "output_type": "stream",
     "text": [
      "Checkpoint saved at 2400 clusters → checkpoint_commentaire_clusters.csv\n"
     ]
    },
    {
     "name": "stderr",
     "output_type": "stream",
     "text": [
      "Fuzzy clustering:  53%|███████████████████████████████▌                            | 2454/4671 [00:36<01:04, 34.36it/s]"
     ]
    },
    {
     "name": "stdout",
     "output_type": "stream",
     "text": [
      "Checkpoint saved at 2450 clusters → checkpoint_commentaire_clusters.csv\n"
     ]
    },
    {
     "name": "stderr",
     "output_type": "stream",
     "text": [
      "Fuzzy clustering:  54%|████████████████████████████████▏                           | 2504/4671 [00:37<01:00, 35.69it/s]"
     ]
    },
    {
     "name": "stdout",
     "output_type": "stream",
     "text": [
      "Checkpoint saved at 2500 clusters → checkpoint_commentaire_clusters.csv\n"
     ]
    },
    {
     "name": "stderr",
     "output_type": "stream",
     "text": [
      "Fuzzy clustering:  55%|████████████████████████████████▊                           | 2556/4671 [00:39<00:49, 42.75it/s]"
     ]
    },
    {
     "name": "stdout",
     "output_type": "stream",
     "text": [
      "Checkpoint saved at 2550 clusters → checkpoint_commentaire_clusters.csv\n"
     ]
    },
    {
     "name": "stderr",
     "output_type": "stream",
     "text": [
      "Fuzzy clustering:  56%|█████████████████████████████████▍                          | 2603/4671 [00:41<01:10, 29.36it/s]"
     ]
    },
    {
     "name": "stdout",
     "output_type": "stream",
     "text": [
      "Checkpoint saved at 2600 clusters → checkpoint_commentaire_clusters.csv\n"
     ]
    },
    {
     "name": "stderr",
     "output_type": "stream",
     "text": [
      "Fuzzy clustering:  57%|██████████████████████████████████▏                         | 2659/4671 [00:42<00:36, 55.53it/s]"
     ]
    },
    {
     "name": "stdout",
     "output_type": "stream",
     "text": [
      "Checkpoint saved at 2650 clusters → checkpoint_commentaire_clusters.csv\n"
     ]
    },
    {
     "name": "stderr",
     "output_type": "stream",
     "text": [
      "Fuzzy clustering:  58%|██████████████████████████████████▊                         | 2707/4671 [00:44<00:54, 35.74it/s]"
     ]
    },
    {
     "name": "stdout",
     "output_type": "stream",
     "text": [
      "Checkpoint saved at 2700 clusters → checkpoint_commentaire_clusters.csv\n"
     ]
    },
    {
     "name": "stderr",
     "output_type": "stream",
     "text": [
      "Fuzzy clustering:  59%|███████████████████████████████████▍                        | 2754/4671 [00:46<01:00, 31.71it/s]"
     ]
    },
    {
     "name": "stdout",
     "output_type": "stream",
     "text": [
      "Checkpoint saved at 2750 clusters → checkpoint_commentaire_clusters.csv\n"
     ]
    },
    {
     "name": "stderr",
     "output_type": "stream",
     "text": [
      "Fuzzy clustering:  60%|████████████████████████████████████                        | 2804/4671 [00:47<00:57, 32.57it/s]"
     ]
    },
    {
     "name": "stdout",
     "output_type": "stream",
     "text": [
      "Checkpoint saved at 2800 clusters → checkpoint_commentaire_clusters.csv\n"
     ]
    },
    {
     "name": "stderr",
     "output_type": "stream",
     "text": [
      "Fuzzy clustering:  61%|████████████████████████████████████▋                       | 2854/4671 [00:49<01:03, 28.40it/s]"
     ]
    },
    {
     "name": "stdout",
     "output_type": "stream",
     "text": [
      "Checkpoint saved at 2850 clusters → checkpoint_commentaire_clusters.csv\n"
     ]
    },
    {
     "name": "stderr",
     "output_type": "stream",
     "text": [
      "Fuzzy clustering:  62%|█████████████████████████████████████▎                      | 2904/4671 [00:51<01:20, 21.93it/s]"
     ]
    },
    {
     "name": "stdout",
     "output_type": "stream",
     "text": [
      "Checkpoint saved at 2900 clusters → checkpoint_commentaire_clusters.csv\n"
     ]
    },
    {
     "name": "stderr",
     "output_type": "stream",
     "text": [
      "Fuzzy clustering:  63%|█████████████████████████████████████▉                      | 2957/4671 [00:53<00:46, 36.63it/s]"
     ]
    },
    {
     "name": "stdout",
     "output_type": "stream",
     "text": [
      "Checkpoint saved at 2950 clusters → checkpoint_commentaire_clusters.csv\n"
     ]
    },
    {
     "name": "stderr",
     "output_type": "stream",
     "text": [
      "Fuzzy clustering:  64%|██████████████████████████████████████▌                     | 3005/4671 [00:55<01:04, 25.84it/s]"
     ]
    },
    {
     "name": "stdout",
     "output_type": "stream",
     "text": [
      "Checkpoint saved at 3000 clusters → checkpoint_commentaire_clusters.csv\n"
     ]
    },
    {
     "name": "stderr",
     "output_type": "stream",
     "text": [
      "Fuzzy clustering:  65%|███████████████████████████████████████▏                    | 3050/4671 [00:56<00:46, 34.82it/s]"
     ]
    },
    {
     "name": "stdout",
     "output_type": "stream",
     "text": [
      "Checkpoint saved at 3050 clusters → checkpoint_commentaire_clusters.csv\n"
     ]
    },
    {
     "name": "stderr",
     "output_type": "stream",
     "text": [
      "Fuzzy clustering:  66%|███████████████████████████████████████▉                    | 3105/4671 [00:59<01:02, 24.91it/s]"
     ]
    },
    {
     "name": "stdout",
     "output_type": "stream",
     "text": [
      "Checkpoint saved at 3100 clusters → checkpoint_commentaire_clusters.csv\n"
     ]
    },
    {
     "name": "stderr",
     "output_type": "stream",
     "text": [
      "Fuzzy clustering:  67%|████████████████████████████████████████▍                   | 3151/4671 [01:00<00:50, 30.23it/s]"
     ]
    },
    {
     "name": "stdout",
     "output_type": "stream",
     "text": [
      "Checkpoint saved at 3150 clusters → checkpoint_commentaire_clusters.csv\n"
     ]
    },
    {
     "name": "stderr",
     "output_type": "stream",
     "text": [
      "Fuzzy clustering:  69%|█████████████████████████████████████████▏                  | 3203/4671 [01:04<01:21, 17.92it/s]"
     ]
    },
    {
     "name": "stdout",
     "output_type": "stream",
     "text": [
      "Checkpoint saved at 3200 clusters → checkpoint_commentaire_clusters.csv\n"
     ]
    },
    {
     "name": "stderr",
     "output_type": "stream",
     "text": [
      "Fuzzy clustering:  70%|█████████████████████████████████████████▊                  | 3254/4671 [01:05<00:51, 27.26it/s]"
     ]
    },
    {
     "name": "stdout",
     "output_type": "stream",
     "text": [
      "Checkpoint saved at 3250 clusters → checkpoint_commentaire_clusters.csv\n"
     ]
    },
    {
     "name": "stderr",
     "output_type": "stream",
     "text": [
      "Fuzzy clustering:  71%|██████████████████████████████████████████▍                 | 3302/4671 [01:08<01:18, 17.46it/s]"
     ]
    },
    {
     "name": "stdout",
     "output_type": "stream",
     "text": [
      "Checkpoint saved at 3300 clusters → checkpoint_commentaire_clusters.csv\n"
     ]
    },
    {
     "name": "stderr",
     "output_type": "stream",
     "text": [
      "Fuzzy clustering:  72%|███████████████████████████████████████████                 | 3352/4671 [01:11<01:12, 18.24it/s]"
     ]
    },
    {
     "name": "stdout",
     "output_type": "stream",
     "text": [
      "Checkpoint saved at 3350 clusters → checkpoint_commentaire_clusters.csv\n"
     ]
    },
    {
     "name": "stderr",
     "output_type": "stream",
     "text": [
      "Fuzzy clustering:  73%|███████████████████████████████████████████▋                | 3402/4671 [01:13<01:16, 16.53it/s]"
     ]
    },
    {
     "name": "stdout",
     "output_type": "stream",
     "text": [
      "Checkpoint saved at 3400 clusters → checkpoint_commentaire_clusters.csv\n"
     ]
    },
    {
     "name": "stderr",
     "output_type": "stream",
     "text": [
      "Fuzzy clustering:  74%|████████████████████████████████████████████▎               | 3454/4671 [01:15<00:50, 24.09it/s]"
     ]
    },
    {
     "name": "stdout",
     "output_type": "stream",
     "text": [
      "Checkpoint saved at 3450 clusters → checkpoint_commentaire_clusters.csv\n"
     ]
    },
    {
     "name": "stderr",
     "output_type": "stream",
     "text": [
      "Fuzzy clustering:  75%|█████████████████████████████████████████████               | 3505/4671 [01:17<00:38, 30.19it/s]"
     ]
    },
    {
     "name": "stdout",
     "output_type": "stream",
     "text": [
      "Checkpoint saved at 3500 clusters → checkpoint_commentaire_clusters.csv\n"
     ]
    },
    {
     "name": "stderr",
     "output_type": "stream",
     "text": [
      "Fuzzy clustering:  76%|█████████████████████████████████████████████▋              | 3552/4671 [01:19<00:47, 23.63it/s]"
     ]
    },
    {
     "name": "stdout",
     "output_type": "stream",
     "text": [
      "Checkpoint saved at 3550 clusters → checkpoint_commentaire_clusters.csv\n"
     ]
    },
    {
     "name": "stderr",
     "output_type": "stream",
     "text": [
      "Fuzzy clustering:  77%|██████████████████████████████████████████████▎             | 3608/4671 [01:20<00:22, 46.62it/s]"
     ]
    },
    {
     "name": "stdout",
     "output_type": "stream",
     "text": [
      "Checkpoint saved at 3600 clusters → checkpoint_commentaire_clusters.csv\n"
     ]
    },
    {
     "name": "stderr",
     "output_type": "stream",
     "text": [
      "Fuzzy clustering:  78%|██████████████████████████████████████████████▉             | 3655/4671 [01:22<00:33, 30.09it/s]"
     ]
    },
    {
     "name": "stdout",
     "output_type": "stream",
     "text": [
      "Checkpoint saved at 3650 clusters → checkpoint_commentaire_clusters.csv\n"
     ]
    },
    {
     "name": "stderr",
     "output_type": "stream",
     "text": [
      "Fuzzy clustering:  79%|███████████████████████████████████████████████▌            | 3704/4671 [01:24<00:34, 28.36it/s]"
     ]
    },
    {
     "name": "stdout",
     "output_type": "stream",
     "text": [
      "Checkpoint saved at 3700 clusters → checkpoint_commentaire_clusters.csv\n"
     ]
    },
    {
     "name": "stderr",
     "output_type": "stream",
     "text": [
      "Fuzzy clustering:  80%|████████████████████████████████████████████████▏           | 3749/4671 [01:25<00:25, 35.61it/s]"
     ]
    },
    {
     "name": "stdout",
     "output_type": "stream",
     "text": [
      "Checkpoint saved at 3750 clusters → checkpoint_commentaire_clusters.csv\n"
     ]
    },
    {
     "name": "stderr",
     "output_type": "stream",
     "text": [
      "Fuzzy clustering:  81%|████████████████████████████████████████████████▉           | 3806/4671 [01:28<00:31, 27.21it/s]"
     ]
    },
    {
     "name": "stdout",
     "output_type": "stream",
     "text": [
      "Checkpoint saved at 3800 clusters → checkpoint_commentaire_clusters.csv\n"
     ]
    },
    {
     "name": "stderr",
     "output_type": "stream",
     "text": [
      "Fuzzy clustering:  82%|█████████████████████████████████████████████████▍          | 3853/4671 [01:30<00:32, 24.97it/s]"
     ]
    },
    {
     "name": "stdout",
     "output_type": "stream",
     "text": [
      "Checkpoint saved at 3850 clusters → checkpoint_commentaire_clusters.csv\n"
     ]
    },
    {
     "name": "stderr",
     "output_type": "stream",
     "text": [
      "Fuzzy clustering:  84%|██████████████████████████████████████████████████          | 3902/4671 [01:32<00:33, 23.29it/s]"
     ]
    },
    {
     "name": "stdout",
     "output_type": "stream",
     "text": [
      "Checkpoint saved at 3900 clusters → checkpoint_commentaire_clusters.csv\n"
     ]
    },
    {
     "name": "stderr",
     "output_type": "stream",
     "text": [
      "Fuzzy clustering:  85%|██████████████████████████████████████████████████▋         | 3950/4671 [01:34<00:36, 19.76it/s]"
     ]
    },
    {
     "name": "stdout",
     "output_type": "stream",
     "text": [
      "Checkpoint saved at 3950 clusters → checkpoint_commentaire_clusters.csv\n"
     ]
    },
    {
     "name": "stderr",
     "output_type": "stream",
     "text": [
      "Fuzzy clustering:  86%|███████████████████████████████████████████████████▍        | 4000/4671 [01:36<00:21, 31.95it/s]"
     ]
    },
    {
     "name": "stdout",
     "output_type": "stream",
     "text": [
      "Checkpoint saved at 4000 clusters → checkpoint_commentaire_clusters.csv\n"
     ]
    },
    {
     "name": "stderr",
     "output_type": "stream",
     "text": [
      "Fuzzy clustering:  87%|████████████████████████████████████████████████████        | 4052/4671 [01:39<00:34, 18.15it/s]"
     ]
    },
    {
     "name": "stdout",
     "output_type": "stream",
     "text": [
      "Checkpoint saved at 4050 clusters → checkpoint_commentaire_clusters.csv\n"
     ]
    },
    {
     "name": "stderr",
     "output_type": "stream",
     "text": [
      "Fuzzy clustering:  88%|████████████████████████████████████████████████████▋       | 4105/4671 [01:41<00:16, 34.85it/s]"
     ]
    },
    {
     "name": "stdout",
     "output_type": "stream",
     "text": [
      "Checkpoint saved at 4100 clusters → checkpoint_commentaire_clusters.csv\n"
     ]
    },
    {
     "name": "stderr",
     "output_type": "stream",
     "text": [
      "Fuzzy clustering:  89%|█████████████████████████████████████████████████████▎      | 4150/4671 [01:43<00:27, 18.95it/s]"
     ]
    },
    {
     "name": "stdout",
     "output_type": "stream",
     "text": [
      "Checkpoint saved at 4150 clusters → checkpoint_commentaire_clusters.csv\n"
     ]
    },
    {
     "name": "stderr",
     "output_type": "stream",
     "text": [
      "Fuzzy clustering:  90%|█████████████████████████████████████████████████████▉      | 4201/4671 [01:46<00:19, 23.95it/s]"
     ]
    },
    {
     "name": "stdout",
     "output_type": "stream",
     "text": [
      "Checkpoint saved at 4200 clusters → checkpoint_commentaire_clusters.csv\n"
     ]
    },
    {
     "name": "stderr",
     "output_type": "stream",
     "text": [
      "Fuzzy clustering:  91%|██████████████████████████████████████████████████████▌     | 4252/4671 [01:49<00:26, 15.94it/s]"
     ]
    },
    {
     "name": "stdout",
     "output_type": "stream",
     "text": [
      "Checkpoint saved at 4250 clusters → checkpoint_commentaire_clusters.csv\n"
     ]
    },
    {
     "name": "stderr",
     "output_type": "stream",
     "text": [
      "Fuzzy clustering:  92%|███████████████████████████████████████████████████████▎    | 4302/4671 [01:53<00:28, 13.03it/s]"
     ]
    },
    {
     "name": "stdout",
     "output_type": "stream",
     "text": [
      "Checkpoint saved at 4300 clusters → checkpoint_commentaire_clusters.csv\n"
     ]
    },
    {
     "name": "stderr",
     "output_type": "stream",
     "text": [
      "Fuzzy clustering:  93%|███████████████████████████████████████████████████████▉    | 4352/4671 [01:57<00:22, 14.22it/s]"
     ]
    },
    {
     "name": "stdout",
     "output_type": "stream",
     "text": [
      "Checkpoint saved at 4350 clusters → checkpoint_commentaire_clusters.csv\n"
     ]
    },
    {
     "name": "stderr",
     "output_type": "stream",
     "text": [
      "Fuzzy clustering:  94%|████████████████████████████████████████████████████████▌   | 4401/4671 [02:02<00:36,  7.46it/s]"
     ]
    },
    {
     "name": "stdout",
     "output_type": "stream",
     "text": [
      "Checkpoint saved at 4400 clusters → checkpoint_commentaire_clusters.csv\n"
     ]
    },
    {
     "name": "stderr",
     "output_type": "stream",
     "text": [
      "Fuzzy clustering:  95%|█████████████████████████████████████████████████████████▏  | 4450/4671 [02:06<00:23,  9.33it/s]"
     ]
    },
    {
     "name": "stdout",
     "output_type": "stream",
     "text": [
      "Checkpoint saved at 4450 clusters → checkpoint_commentaire_clusters.csv\n"
     ]
    },
    {
     "name": "stderr",
     "output_type": "stream",
     "text": [
      "Fuzzy clustering:  96%|█████████████████████████████████████████████████████████▊  | 4500/4671 [02:10<00:16, 10.45it/s]"
     ]
    },
    {
     "name": "stdout",
     "output_type": "stream",
     "text": [
      "Checkpoint saved at 4500 clusters → checkpoint_commentaire_clusters.csv\n"
     ]
    },
    {
     "name": "stderr",
     "output_type": "stream",
     "text": [
      "Fuzzy clustering:  97%|██████████████████████████████████████████████████████████▍ | 4551/4671 [02:15<00:09, 12.10it/s]"
     ]
    },
    {
     "name": "stdout",
     "output_type": "stream",
     "text": [
      "Checkpoint saved at 4550 clusters → checkpoint_commentaire_clusters.csv\n"
     ]
    },
    {
     "name": "stderr",
     "output_type": "stream",
     "text": [
      "Fuzzy clustering:  99%|███████████████████████████████████████████████████████████ | 4601/4671 [02:20<00:05, 12.17it/s]"
     ]
    },
    {
     "name": "stdout",
     "output_type": "stream",
     "text": [
      "Checkpoint saved at 4600 clusters → checkpoint_commentaire_clusters.csv\n"
     ]
    },
    {
     "name": "stderr",
     "output_type": "stream",
     "text": [
      "Fuzzy clustering: 100%|███████████████████████████████████████████████████████████▋| 4651/4671 [02:25<00:02,  7.11it/s]"
     ]
    },
    {
     "name": "stdout",
     "output_type": "stream",
     "text": [
      "Checkpoint saved at 4650 clusters → checkpoint_commentaire_clusters.csv\n"
     ]
    },
    {
     "name": "stderr",
     "output_type": "stream",
     "text": [
      "Fuzzy clustering: 100%|████████████████████████████████████████████████████████████| 4671/4671 [02:28<00:00, 31.38it/s]\n"
     ]
    },
    {
     "name": "stdout",
     "output_type": "stream",
     "text": [
      "Finalizing results...\n"
     ]
    },
    {
     "name": "stderr",
     "output_type": "stream",
     "text": [
      "Final aggregation: 100%|███████████████████████████████████████████████████████| 1898/1898 [00:00<00:00, 120826.72it/s]\n"
     ]
    },
    {
     "data": {
      "text/html": [
       "<div>\n",
       "<style scoped>\n",
       "    .dataframe tbody tr th:only-of-type {\n",
       "        vertical-align: middle;\n",
       "    }\n",
       "\n",
       "    .dataframe tbody tr th {\n",
       "        vertical-align: top;\n",
       "    }\n",
       "\n",
       "    .dataframe thead th {\n",
       "        text-align: right;\n",
       "    }\n",
       "</style>\n",
       "<table border=\"1\" class=\"dataframe\">\n",
       "  <thead>\n",
       "    <tr style=\"text-align: right;\">\n",
       "      <th></th>\n",
       "      <th>Cluster_Representative</th>\n",
       "      <th>Count</th>\n",
       "      <th>Variations</th>\n",
       "      <th>PerMille</th>\n",
       "    </tr>\n",
       "  </thead>\n",
       "  <tbody>\n",
       "    <tr>\n",
       "      <th>0</th>\n",
       "      <td>stk bis</td>\n",
       "      <td>6517</td>\n",
       "      <td>stk bis|stk bis 300|stk klein|stk bis 700|stk ...</td>\n",
       "      <td>19.42</td>\n",
       "    </tr>\n",
       "    <tr>\n",
       "      <th>1</th>\n",
       "      <td>bis 300</td>\n",
       "      <td>5626</td>\n",
       "      <td>bis 300|bis 300 cm2|bis cm|bis 700|bis 100|bis...</td>\n",
       "      <td>16.76</td>\n",
       "    </tr>\n",
       "    <tr>\n",
       "      <th>5</th>\n",
       "      <td>korrodierter bewehrung</td>\n",
       "      <td>5028</td>\n",
       "      <td>korrodierter bewehrung|mit korrodierter bewehr...</td>\n",
       "      <td>14.98</td>\n",
       "    </tr>\n",
       "    <tr>\n",
       "      <th>3</th>\n",
       "      <td>cm2 mit</td>\n",
       "      <td>4809</td>\n",
       "      <td>cm2 mit|che mit|700 cm2 mit|100 cm2 mit|500 cm...</td>\n",
       "      <td>14.33</td>\n",
       "    </tr>\n",
       "    <tr>\n",
       "      <th>4</th>\n",
       "      <td>mit korrodierter</td>\n",
       "      <td>4469</td>\n",
       "      <td>mit korrodierter|cm2 mit korrodierter|stk korr...</td>\n",
       "      <td>13.32</td>\n",
       "    </tr>\n",
       "    <tr>\n",
       "      <th>...</th>\n",
       "      <td>...</td>\n",
       "      <td>...</td>\n",
       "      <td>...</td>\n",
       "      <td>...</td>\n",
       "    </tr>\n",
       "    <tr>\n",
       "      <th>1893</th>\n",
       "      <td>querschnittsverlust die stabanker und flanschm...</td>\n",
       "      <td>7</td>\n",
       "      <td>querschnittsverlust die stabanker und flanschm...</td>\n",
       "      <td>0.02</td>\n",
       "    </tr>\n",
       "    <tr>\n",
       "      <th>1894</th>\n",
       "      <td>flanschmuttern weisen keinen korrosionsschutz ...</td>\n",
       "      <td>7</td>\n",
       "      <td>flanschmuttern weisen keinen korrosionsschutz ...</td>\n",
       "      <td>0.02</td>\n",
       "    </tr>\n",
       "    <tr>\n",
       "      <th>1895</th>\n",
       "      <td>weisen keinen korrosionsschutz verzinkung auf</td>\n",
       "      <td>7</td>\n",
       "      <td>weisen keinen korrosionsschutz verzinkung auf</td>\n",
       "      <td>0.02</td>\n",
       "    </tr>\n",
       "    <tr>\n",
       "      <th>1896</th>\n",
       "      <td>korrosionsschutz verzinkung auf derzeitige kor...</td>\n",
       "      <td>7</td>\n",
       "      <td>korrosionsschutz verzinkung auf derzeitige kor...</td>\n",
       "      <td>0.02</td>\n",
       "    </tr>\n",
       "    <tr>\n",
       "      <th>1897</th>\n",
       "      <td>verzinkung auf derzeitige korrosion unproblema...</td>\n",
       "      <td>7</td>\n",
       "      <td>verzinkung auf derzeitige korrosion unproblema...</td>\n",
       "      <td>0.02</td>\n",
       "    </tr>\n",
       "  </tbody>\n",
       "</table>\n",
       "<p>1898 rows × 4 columns</p>\n",
       "</div>"
      ],
      "text/plain": [
       "                                 Cluster_Representative  Count  \\\n",
       "0                                               stk bis   6517   \n",
       "1                                               bis 300   5626   \n",
       "5                                korrodierter bewehrung   5028   \n",
       "3                                               cm2 mit   4809   \n",
       "4                                      mit korrodierter   4469   \n",
       "...                                                 ...    ...   \n",
       "1893  querschnittsverlust die stabanker und flanschm...      7   \n",
       "1894  flanschmuttern weisen keinen korrosionsschutz ...      7   \n",
       "1895      weisen keinen korrosionsschutz verzinkung auf      7   \n",
       "1896  korrosionsschutz verzinkung auf derzeitige kor...      7   \n",
       "1897  verzinkung auf derzeitige korrosion unproblema...      7   \n",
       "\n",
       "                                             Variations  PerMille  \n",
       "0     stk bis|stk bis 300|stk klein|stk bis 700|stk ...     19.42  \n",
       "1     bis 300|bis 300 cm2|bis cm|bis 700|bis 100|bis...     16.76  \n",
       "5     korrodierter bewehrung|mit korrodierter bewehr...     14.98  \n",
       "3     cm2 mit|che mit|700 cm2 mit|100 cm2 mit|500 cm...     14.33  \n",
       "4     mit korrodierter|cm2 mit korrodierter|stk korr...     13.32  \n",
       "...                                                 ...       ...  \n",
       "1893  querschnittsverlust die stabanker und flanschm...      0.02  \n",
       "1894  flanschmuttern weisen keinen korrosionsschutz ...      0.02  \n",
       "1895      weisen keinen korrosionsschutz verzinkung auf      0.02  \n",
       "1896  korrosionsschutz verzinkung auf derzeitige kor...      0.02  \n",
       "1897  verzinkung auf derzeitige korrosion unproblema...      0.02  \n",
       "\n",
       "[1898 rows x 4 columns]"
      ]
     },
     "metadata": {},
     "output_type": "display_data"
    },
    {
     "name": "stdout",
     "output_type": "stream",
     "text": [
      "✅ Saved final results as 'commentaire_clusters_summary_final.csv'\n"
     ]
    }
   ],
   "source": [
    "import pandas as pd\n",
    "from rapidfuzz import fuzz, distance\n",
    "from collections import Counter\n",
    "import re\n",
    "from tqdm import tqdm\n",
    "import os\n",
    "\n",
    "# === 1. Load CSV ===\n",
    "csv_file = \"20250903_Extrait_Constatations_F2.csv\"\n",
    "df = pd.read_csv(csv_file, delimiter=';', dtype=str)\n",
    "df.columns = df.columns.str.strip()\n",
    "comment_col = \"Commentaire\"\n",
    "df = df.dropna(subset=[comment_col])\n",
    "\n",
    "# === 2. Text preprocessing helpers ===\n",
    "def clean_words(text):\n",
    "    if pd.isna(text):\n",
    "        return []\n",
    "    text = text.lower()\n",
    "    text = re.sub(r'[^a-z0-9\\s]', ' ', text)\n",
    "    words = text.split()\n",
    "    words = [w for w in words if len(w) > 1]  # ignore 1-letter words\n",
    "    return words\n",
    "\n",
    "def generate_clusters(words, min_len=2, max_len=5):\n",
    "    clusters = []\n",
    "    for n in range(min_len, min(max_len+1, len(words)+1)):\n",
    "        for i in range(len(words)-n+1):\n",
    "            cluster = ' '.join(words[i:i+n])\n",
    "            # skip clusters with all single-letter words\n",
    "            if all(len(w) == 1 for w in cluster.split()):\n",
    "                continue\n",
    "            clusters.append(cluster)\n",
    "    return clusters\n",
    "\n",
    "# === 3. Extract clusters from Commentaire ===\n",
    "print(\"Extracting clusters from Commentaire...\")\n",
    "all_clusters = []\n",
    "for com in tqdm(df[comment_col], desc=\"Extracting\"):\n",
    "    words = clean_words(com)\n",
    "    clusters = generate_clusters(words, min_len=2, max_len=5)\n",
    "    all_clusters.extend(clusters)\n",
    "\n",
    "# Count exact occurrences\n",
    "cluster_counter = Counter(all_clusters)\n",
    "cluster_candidates = {k:v for k,v in cluster_counter.items() if v >= 7}\n",
    "print(f\"→ Found {len(cluster_candidates)} unique clusters with ≥7 occurrences.\")\n",
    "\n",
    "# === 4. Fuzzy clustering parameters ===\n",
    "threshold_similarity = 90  # %\n",
    "max_typo_chars = 4         # edit distance threshold\n",
    "checkpoint_every = 50\n",
    "checkpoint_file = \"checkpoint_commentaire_clusters.csv\"\n",
    "\n",
    "# === 5. Resume from checkpoint if exists ===\n",
    "results = []\n",
    "processed = set()\n",
    "if os.path.exists(checkpoint_file):\n",
    "    checkpoint_df = pd.read_csv(checkpoint_file, sep=';')\n",
    "    processed = set(checkpoint_df[\"Cluster_Representative\"].tolist())\n",
    "    results = checkpoint_df.to_dict('records')\n",
    "    print(f\"Resuming from checkpoint → {len(processed)} clusters already processed.\")\n",
    "\n",
    "# === 6. Fuzzy clustering ===\n",
    "cluster_groups = {}\n",
    "candidates_list = list(cluster_candidates.keys())\n",
    "\n",
    "print(\"Performing fuzzy clustering with RapidFuzz...\")\n",
    "for i, cluster in enumerate(tqdm(candidates_list, desc=\"Fuzzy clustering\")):\n",
    "    if cluster in processed:\n",
    "        continue\n",
    "\n",
    "    found = False\n",
    "    for key in cluster_groups.keys():\n",
    "        similarity = fuzz.ratio(cluster, key)\n",
    "        edit_dist = distance.Levenshtein.distance(cluster, key)\n",
    "        if similarity >= threshold_similarity or edit_dist <= max_typo_chars:\n",
    "            cluster_groups[key].append(cluster)\n",
    "            found = True\n",
    "            break\n",
    "    if not found:\n",
    "        cluster_groups[cluster] = [cluster]\n",
    "\n",
    "    # === Checkpoint saving ===\n",
    "    if (i + 1) % checkpoint_every == 0:\n",
    "        partial_results = []\n",
    "        total_counts = sum(cluster_counter.values())\n",
    "        for key, variants in cluster_groups.items():\n",
    "            count = sum([cluster_counter[v] for v in variants])\n",
    "            per_mille = round(count / total_counts * 1000, 2)\n",
    "            partial_results.append({\n",
    "                \"Cluster_Representative\": key,\n",
    "                \"Count\": count,\n",
    "                \"Variations\": '|'.join(variants),\n",
    "                \"PerMille\": per_mille\n",
    "            })\n",
    "        pd.DataFrame(partial_results).to_csv(checkpoint_file, sep=';', index=False)\n",
    "        print(f\"Checkpoint saved at {i+1} clusters → {checkpoint_file}\")\n",
    "\n",
    "# === 7. Final aggregation ===\n",
    "print(\"Finalizing results...\")\n",
    "total_counts = sum(cluster_counter.values())\n",
    "results = []\n",
    "for key, variants in tqdm(cluster_groups.items(), desc=\"Final aggregation\"):\n",
    "    count = sum([cluster_counter[v] for v in variants])\n",
    "    per_mille = round(count / total_counts * 1000, 2)\n",
    "    results.append({\n",
    "        \"Cluster_Representative\": key,\n",
    "        \"Count\": count,\n",
    "        \"Variations\": '|'.join(variants),\n",
    "        \"PerMille\": per_mille\n",
    "    })\n",
    "\n",
    "summary_df = pd.DataFrame(results).sort_values(by=\"Count\", ascending=False)\n",
    "summary_df.to_csv(\"commentaire_clusters_summary_final.csv\", sep=';', index=False)\n",
    "display(summary_df)\n",
    "print(\"✅ Saved final results as 'commentaire_clusters_summary_final.csv'\")\n"
   ]
  },
  {
   "cell_type": "code",
   "execution_count": null,
   "id": "8f7d6460-e933-4728-9358-66179497d055",
   "metadata": {},
   "outputs": [],
   "source": []
  }
 ],
 "metadata": {
  "kernelspec": {
   "display_name": "Python 3 (ipykernel)",
   "language": "python",
   "name": "python3"
  },
  "language_info": {
   "codemirror_mode": {
    "name": "ipython",
    "version": 3
   },
   "file_extension": ".py",
   "mimetype": "text/x-python",
   "name": "python",
   "nbconvert_exporter": "python",
   "pygments_lexer": "ipython3",
   "version": "3.13.5"
  }
 },
 "nbformat": 4,
 "nbformat_minor": 5
}
