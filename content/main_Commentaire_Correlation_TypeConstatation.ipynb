{
 "cells": [
  {
   "cell_type": "code",
   "execution_count": 12,
   "id": "613662dd-fdd3-4566-8949-9a90288bcde2",
   "metadata": {},
   "outputs": [
    {
     "name": "stderr",
     "output_type": "stream",
     "text": [
      "Extracting Commentaire clusters: 100%|███████████████████████████████████████| 48227/48227 [00:00<00:00, 120178.51it/s]\n"
     ]
    },
    {
     "name": "stdout",
     "output_type": "stream",
     "text": [
      "Found 4671 unique Commentaire candidate clusters (≥7 occurrences)\n"
     ]
    },
    {
     "name": "stderr",
     "output_type": "stream",
     "text": [
      "Fuzzy clustering Commentaire: 100%|████████████████████████████████████████████████| 4671/4671 [02:19<00:00, 33.50it/s]\n"
     ]
    },
    {
     "name": "stdout",
     "output_type": "stream",
     "text": [
      "Saved 'commentaire_clusters_summary.csv' with 1898 rows.\n",
      "\n",
      "Sample clusters:\n",
      "1. Rep: stk bis, Variants: ['stk bis', 'stk bis 300', 'stk klein', 'stk bis 700', 'stk bis 100', 'stk bis 500', 'stk bis 75', 'stk bis 400', 'stk bis 900', 'stk gr', 'ft best', 'cm2 bis', 'stk bis 200', 'spr des', 'st tze', 'stk mit', 'stk bis 350', 'stk ca', 'nge bis', 'stk nge', 'stk block', 'stk bis 600', 'stk bis m2', 'je stk bis', 'stk bis 800', 'st ck', 'stk bis 150', 'st cke', 'stk riss', 'je bis', 'stk evtl', 'risse bis', 'ca bis', 'ist ein', '10 stk bis', 'stk bis 50', 'stk teils', 'ist in', 'stk risse', '10 bis', 'sse bis', 'oben bis', 'stk bis mm', 'stk bis ca', 'stk in', 'stk bis 450', 'von bis', 'cm bis', 'stk alte', 'ngen bis', '1stk bis', 'chig bis', 'stk pro', 'st be', 'stk bis 250', 'gt bis', 'st teils', '50 bis', 'ist die', 'stk je', 'riss bis', 'st sich', 'stk bis 750', 'lokal bis', 'stk gekr'], Total Count: 6517\n",
      "2. Rep: bis 300, Variants: ['bis 300', 'bis 300 cm2', 'bis cm', 'bis 700', 'bis 100', 'bis 2cm', 'bis 500', 'bis 75', 'bis 400', 'bis 25', 'bis 900', 'bis ca', 'bis 35', 'bis 35 mm', 'cm2 100', 'bis 250', 'bis 200', 'bis 200cm2', 'bis 1000', 'bis 1500', 'bis 1200', 'bis mm', 'bis 1100', 'bis 350', 'bis 70', 'bis 500cm2', 'bis 600', 'bis m2', 'bis 100cm2', 'bis 800', 'bis 1800', 'bis 150', 'bis 3mm', 'bis 15', 'bis 2000', 'ca 30', 'bis 3000', 'bis stk', 'bis 50cm2', 'bis 300cm2', 'bis max', 'bis 2400', 'bis 20', 'bis 1600', 'bis 30', 'bis 20 mm', 'bis 50', 'bis 5cm', 'bis 30 mm', 'bis 10', 'bis 100 cm', 'bis zu', 'bis 10 mm', 'bis 450', 'ca 00', 'ca 200', 'bis 50 mm', 'bis ber', 'bis 1m2', 'bis 2500', 'ca 300', 'bis 5m2', 'bis 10 cm', 'bis 4000', 'bis 400cm2', 'bis 1cm', 'bis 20mm', 'bis 12', 'bis 4500', 'bis 1300', 'bis in', 'bis uk', 'bes bei', 'bis 1400', 'bis 40', 'bis zu 10', 'bis 40 mm', 'bis ca 40', 'ca 100', 'bis 300 cm', 'bis auf', 'bis 750', 'bis 5mm', 'bis 2mm', 'bis 10cm', 'ca 600', 'bis 60', 'bis 80', 'bis 600cm2', 'bis 0mm', 'bis 1mm'], Total Count: 5626\n",
      "3. Rep: 300 cm2, Variants: ['300 cm2', '300 cm2 mit', '700 cm2', '100 cm2', '500 cm2', '75 cm2', '400 cm2', '100 cm2 zw', '25 cm2', '900 cm2', '80 cm', 'ca cm', '35 mm', 'nge cm', 'sse cm2', '200 cm2', '1000 cm2', '1500 cm2', '1200 cm2', '1100 cm2', '350 cm2', '70 cm', '600 cm2', '200 cm2 zw', '25 cm', '30 cm', '800 cm2', 'ca 2m2', '1800 cm2', '150 cm2', 'ca m2', '10 mm', '2000 cm2', '3000 cm2', '2400 cm2', '250 cm2', '20 cm', '1600 cm2', '20 mm', '50 cm2', 'je m2', '30 mm', '300 cm2 zw', '500 cm2 zw', '100 cm', '40 mm', '450 cm2', '15 cm', 'ca 200 cm2', 'ca 5m2', '50 mm', '2500 cm2', 'ca 300 cm2', '10 cm', '4000 cm2', '50 cm', '25 m2', 'ca 1m2', '4500 cm2', '1300 cm2', 'ca 300cm2', '1400 cm2', '40 cm', '200 cm', '300 cm', '60 cm', '750 cm2', 'von cm', 'zu cm', 'ca 600 cm2'], Total Count: 4282\n",
      "4. Rep: cm2 mit, Variants: ['cm2 mit', 'che mit', '700 cm2 mit', '100 cm2 mit', '500 cm2 mit', '400 cm2 mit', 'cm2 zw', 'ca mm', '1000cm2 mit', '350 cm2 mit', '200 cm2 mit', '2000cm2 mit', '900 cm2 mit', '600 cm2 mit', 'm2 mit', 'bis m2 mit', '800 cm2 mit', '150 cm2 mit', 'cm2 teils', 'cm2 evtl', 'mm mit', 'be mit', '300cm2 mit', 'und mit', 'fuge mit', '75 cm2 mit', 'fb mit', 'chig mit', 'cm tief', '50 cm2 mit', 'mm in', '12 mm', '1m2 mit', 'ca m2 mit', '200cm2 mit', 'riss mit', '5m2 mit', 'chen mit', 'af mit', '250 cm2 mit', '500cm2 mit', 'cm mit', '400cm2 mit', '3mm et', '450 cm2 mit', 'mm et', '100cm2 mit', '150cm2 mit', 'cm und', 'rtel mit', '50cm2 mit', 'llt mit'], Total Count: 4809\n",
      "5. Rep: mit korrodierter, Variants: ['mit korrodierter', 'cm2 mit korrodierter', 'stk korrodierter', 'm2 mit korrodierter', 'stk korrodierte', '1m2 mit korrodierter', '5m2 mit korrodierter'], Total Count: 4469\n",
      "6. Rep: korrodierter bewehrung, Variants: ['korrodierter bewehrung', 'mit korrodierter bewehrung', 'korrodierter bewehrung ev', 'korrodierter bewehrung bei', 'korrodierte bewehrung', 'korrodierte bewehrungsst', 'korrodierter bewehrung mit', 'korrodierter bewehrung ca', 'korrodierter bewehrung zw', 'korrodierter bewehrung bis', 'korrodierter bewehrung und', 'korrodierter bewehrung von'], Total Count: 5028\n",
      "7. Rep: stk bis 300 cm2, Variants: ['stk bis 300 cm2', 'stk bis 300 cm2 mit', 'stk bis 700 cm2', 'stk bis 100 cm2', 'stk bis 500 cm2', 'stk bis 75 cm2', 'stk bis 400 cm2', 'stk bis 100 cm2 zw', 'stk bis 900 cm2', 'stk bis 200 cm2', 'stk bis 1500 cm2', 'stk bis 1200 cm2', 'stk bis 1000cm2', 'stk bis 1100 cm2', 'stk bis 350 cm2', 'stk bis 600 cm2', 'stk bis 200 cm2 zw', 'stk bis 100cm2', 'stk bis 800 cm2', 'stk bis 1000 cm2', 'stk bis 1800 cm2', 'stk bis 150 cm2', 'stk bis 2000 cm2', 'stk bis 3000', 'stk bis 3000 cm2', 'stk bis 50cm2', 'stk bis 300cm2', 'stk bis 2400 cm2', 'stk bis 75cm2', 'stk bis 1600 cm2', 'stk bis 50 cm2', 'stk bis 150cm2', 'stk bis 300 cm2 zw', 'stk bis 500 cm2 zw', 'je stk bis 100 cm2', 'stk bis 450 cm2', 'stk bis 2500 cm2', 'stk bis 200cm2', 'stk bis 400cm2', 'stk bis 250 cm2', 'stk bis 500cm2', 'stk bis 4500 cm2', 'stk bis 1300 cm2', 'je stk bis 200 cm2', 'stk bis 1400 cm2', 'stk bis 4000 cm2', 'stk bis 100 cm', 'stk bis 750 cm2', 'sse bis 200cm2'], Total Count: 2905\n",
      "8. Rep: bis 300 cm2 mit, Variants: ['bis 300 cm2 mit', 'bis 700 cm2 mit', 'bis 100 cm2 mit', 'bis 500 cm2 mit', 'bis 400 cm2 mit', 'bis 100 cm2 zw', 'bis 1500 cm2 mit', 'bis 1200 cm2 mit', 'bis 1000cm2 mit', 'bis 350 cm2 mit', 'bis 200 cm2 mit', 'bis 2000cm2 mit', 'bis 900 cm2 mit', 'bis 600 cm2 mit', 'bis 200 cm2 zw', 'bis 800 cm2 mit', 'bis 1000 cm2 mit', 'bis 150 cm2 mit', 'bis 300 cm2 teils', 'bis 2000 cm2 mit', 'bis 3000 cm2 mit', 'bis 300cm2 mit', 'bis 2400 cm2 mit', 'bis 1600 cm2 mit', 'bis 75 cm2 mit', 'bis 300 cm2 zw', 'bis 500 cm2 zw', 'bis 50 cm2 mit', 'bis 2500 cm2 mit', 'bis 200cm2 mit', 'bis 250 cm2 mit', 'bis 500cm2 mit', 'bis 400cm2 mit', 'bis 450 cm2 mit', 'bis 1400 cm2 mit', 'bis 100cm2 mit', 'bis 1100 cm2 mit', 'bis 1800 cm2 mit', 'bis 150cm2 mit', 'bis 50cm2 mit'], Total Count: 1936\n",
      "9. Rep: 300 cm2 mit korrodierter, Variants: ['300 cm2 mit korrodierter', 'bis 300 cm2 mit korrodierter', '700 cm2 mit korrodierter', '100 cm2 mit korrodierter', '500 cm2 mit korrodierter', '400 cm2 mit korrodierter', '1200 cm2 mit korrodierter', '1000cm2 mit korrodierter', '350 cm2 mit korrodierter', '200 cm2 mit korrodierter', '2000cm2 mit korrodierter', '900 cm2 mit korrodierter', '600 cm2 mit korrodierter', 'bis m2 mit korrodierter', '800 cm2 mit korrodierter', '1000 cm2 mit korrodierter', '150 cm2 mit korrodierter', '2000 cm2 mit korrodierter', '3000 cm2 mit korrodierter', 'bis 3000 cm2 mit korrodierter', '300cm2 mit korrodierter', 'bis 300cm2 mit korrodierter', '2400 cm2 mit korrodierter', '75 cm2 mit korrodierter', '50 cm2 mit korrodierter', '1500 cm2 mit korrodierter', '2500 cm2 mit korrodierter', '200cm2 mit korrodierter', 'bis 5m2 mit korrodierter', '250 cm2 mit korrodierter', '500cm2 mit korrodierter', '400cm2 mit korrodierter', '450 cm2 mit korrodierter', '1400 cm2 mit korrodierter', '100cm2 mit korrodierter', '1600 cm2 mit korrodierter', '1100 cm2 mit korrodierter', '1800 cm2 mit korrodierter', '150cm2 mit korrodierter', '50cm2 mit korrodierter'], Total Count: 2095\n",
      "10. Rep: cm2 mit korrodierter bewehrung, Variants: ['cm2 mit korrodierter bewehrung', '300 cm2 mit korrodierter bewehrung', '700 cm2 mit korrodierter bewehrung', '100 cm2 mit korrodierter bewehrung', '500 cm2 mit korrodierter bewehrung', '400 cm2 mit korrodierter bewehrung', 'cm2 mit korrodierter bewehrung teils', '1200 cm2 mit korrodierter bewehrung', '1000cm2 mit korrodierter bewehrung', '350 cm2 mit korrodierter bewehrung', '200 cm2 mit korrodierter bewehrung', '2000cm2 mit korrodierter bewehrung', '900 cm2 mit korrodierter bewehrung', '600 cm2 mit korrodierter bewehrung', 'm2 mit korrodierter bewehrung', 'bis m2 mit korrodierter bewehrung', '800 cm2 mit korrodierter bewehrung', '1000 cm2 mit korrodierter bewehrung', '150 cm2 mit korrodierter bewehrung', 'cm2 teils mit korrodierter bewehrung', '2000 cm2 mit korrodierter bewehrung', '3000 cm2 mit korrodierter bewehrung', '300cm2 mit korrodierter bewehrung', '2400 cm2 mit korrodierter bewehrung', '75 cm2 mit korrodierter bewehrung', '50 cm2 mit korrodierter bewehrung', 'chig mit korrodierter bewehrung', '1m2 mit korrodierter bewehrung', '1500 cm2 mit korrodierter bewehrung', 'cm2 mit korrodierter bewehrung zw', '2500 cm2 mit korrodierter bewehrung', '200cm2 mit korrodierter bewehrung', '5m2 mit korrodierter bewehrung', 'bis 5m2 mit korrodierter bewehrung', 'cm2 mit korrodierter bewehrung mit', '250 cm2 mit korrodierter bewehrung', '500cm2 mit korrodierter bewehrung', '400cm2 mit korrodierter bewehrung', 'cm2 mit korrodierter bewehrung von', '450 cm2 mit korrodierter bewehrung', '1400 cm2 mit korrodierter bewehrung', '100cm2 mit korrodierter bewehrung', '1600 cm2 mit korrodierter bewehrung', '1100 cm2 mit korrodierter bewehrung', '1800 cm2 mit korrodierter bewehrung', '150cm2 mit korrodierter bewehrung', '50cm2 mit korrodierter bewehrung', 'bis 50cm2 mit korrodierter bewehrung'], Total Count: 3948\n",
      "\n",
      "Correlating Type de constatation Texte to Commentaire clusters (vectorized)...\n"
     ]
    },
    {
     "name": "stderr",
     "output_type": "stream",
     "text": [
      "Vectorized correlation:   3%|█▍                                                    | 50/1898 [03:58<1:25:12,  2.77s/it]"
     ]
    },
    {
     "name": "stdout",
     "output_type": "stream",
     "text": [
      "Checkpoint at cluster 50: saved 1015 rows.\n",
      "  Commentaire_Cluster                             Commentaire_Variations  \\\n",
      "0             stk bis  stk bis (2916) | stk bis 300 (261) | stk klein...   \n",
      "1             stk bis  stk bis (2916) | stk bis 300 (261) | stk klein...   \n",
      "2             stk bis  stk bis (2916) | stk bis 300 (261) | stk klein...   \n",
      "3             bis 300  bis 300 (318) | bis 300 cm2 (309) | bis cm (63...   \n",
      "4             bis 300  bis 300 (318) | bis 300 cm2 (309) | bis cm (63...   \n",
      "\n",
      "   Commentaire_Count                                  Type_Value  Type_Count  \\\n",
      "0               6517  Fissures dues à des déformations empêchées           1   \n",
      "1               6517                                      Eclats           1   \n",
      "2               6517                             Nids de gravier           1   \n",
      "3               5626                                      Eclats         263   \n",
      "4               5626                          autre constatation           1   \n",
      "\n",
      "   Type_PerMille  \n",
      "0         333.33  \n",
      "1         333.33  \n",
      "2         333.33  \n",
      "3         710.81  \n",
      "4           2.70  \n"
     ]
    },
    {
     "name": "stderr",
     "output_type": "stream",
     "text": [
      "Vectorized correlation:   5%|██▊                                                  | 100/1898 [07:56<2:18:55,  4.64s/it]"
     ]
    },
    {
     "name": "stdout",
     "output_type": "stream",
     "text": [
      "Checkpoint at cluster 100: saved 1469 rows.\n",
      "  Commentaire_Cluster                             Commentaire_Variations  \\\n",
      "0             stk bis  stk bis (2916) | stk bis 300 (261) | stk klein...   \n",
      "1             stk bis  stk bis (2916) | stk bis 300 (261) | stk klein...   \n",
      "2             stk bis  stk bis (2916) | stk bis 300 (261) | stk klein...   \n",
      "3             bis 300  bis 300 (318) | bis 300 cm2 (309) | bis cm (63...   \n",
      "4             bis 300  bis 300 (318) | bis 300 cm2 (309) | bis cm (63...   \n",
      "\n",
      "   Commentaire_Count                                  Type_Value  Type_Count  \\\n",
      "0               6517  Fissures dues à des déformations empêchées           1   \n",
      "1               6517                                      Eclats           1   \n",
      "2               6517                             Nids de gravier           1   \n",
      "3               5626                                      Eclats         263   \n",
      "4               5626                          autre constatation           1   \n",
      "\n",
      "   Type_PerMille  \n",
      "0         333.33  \n",
      "1         333.33  \n",
      "2         333.33  \n",
      "3         710.81  \n",
      "4           2.70  \n"
     ]
    },
    {
     "name": "stderr",
     "output_type": "stream",
     "text": [
      "Vectorized correlation:   8%|████▏                                                | 150/1898 [11:58<1:47:22,  3.69s/it]"
     ]
    },
    {
     "name": "stdout",
     "output_type": "stream",
     "text": [
      "Checkpoint at cluster 150: saved 2052 rows.\n",
      "  Commentaire_Cluster                             Commentaire_Variations  \\\n",
      "0             stk bis  stk bis (2916) | stk bis 300 (261) | stk klein...   \n",
      "1             stk bis  stk bis (2916) | stk bis 300 (261) | stk klein...   \n",
      "2             stk bis  stk bis (2916) | stk bis 300 (261) | stk klein...   \n",
      "3             bis 300  bis 300 (318) | bis 300 cm2 (309) | bis cm (63...   \n",
      "4             bis 300  bis 300 (318) | bis 300 cm2 (309) | bis cm (63...   \n",
      "\n",
      "   Commentaire_Count                                  Type_Value  Type_Count  \\\n",
      "0               6517  Fissures dues à des déformations empêchées           1   \n",
      "1               6517                                      Eclats           1   \n",
      "2               6517                             Nids de gravier           1   \n",
      "3               5626                                      Eclats         263   \n",
      "4               5626                          autre constatation           1   \n",
      "\n",
      "   Type_PerMille  \n",
      "0         333.33  \n",
      "1         333.33  \n",
      "2         333.33  \n",
      "3         710.81  \n",
      "4           2.70  \n"
     ]
    },
    {
     "name": "stderr",
     "output_type": "stream",
     "text": [
      "Vectorized correlation:  11%|█████▌                                               | 200/1898 [15:42<1:54:54,  4.06s/it]"
     ]
    },
    {
     "name": "stdout",
     "output_type": "stream",
     "text": [
      "Checkpoint at cluster 200: saved 2463 rows.\n",
      "  Commentaire_Cluster                             Commentaire_Variations  \\\n",
      "0             stk bis  stk bis (2916) | stk bis 300 (261) | stk klein...   \n",
      "1             stk bis  stk bis (2916) | stk bis 300 (261) | stk klein...   \n",
      "2             stk bis  stk bis (2916) | stk bis 300 (261) | stk klein...   \n",
      "3             bis 300  bis 300 (318) | bis 300 cm2 (309) | bis cm (63...   \n",
      "4             bis 300  bis 300 (318) | bis 300 cm2 (309) | bis cm (63...   \n",
      "\n",
      "   Commentaire_Count                                  Type_Value  Type_Count  \\\n",
      "0               6517  Fissures dues à des déformations empêchées           1   \n",
      "1               6517                                      Eclats           1   \n",
      "2               6517                             Nids de gravier           1   \n",
      "3               5626                                      Eclats         263   \n",
      "4               5626                          autre constatation           1   \n",
      "\n",
      "   Type_PerMille  \n",
      "0         333.33  \n",
      "1         333.33  \n",
      "2         333.33  \n",
      "3         710.81  \n",
      "4           2.70  \n"
     ]
    },
    {
     "name": "stderr",
     "output_type": "stream",
     "text": [
      "Vectorized correlation:  13%|██████▉                                              | 250/1898 [19:14<3:18:52,  7.24s/it]"
     ]
    },
    {
     "name": "stdout",
     "output_type": "stream",
     "text": [
      "Checkpoint at cluster 250: saved 2784 rows.\n",
      "  Commentaire_Cluster                             Commentaire_Variations  \\\n",
      "0             stk bis  stk bis (2916) | stk bis 300 (261) | stk klein...   \n",
      "1             stk bis  stk bis (2916) | stk bis 300 (261) | stk klein...   \n",
      "2             stk bis  stk bis (2916) | stk bis 300 (261) | stk klein...   \n",
      "3             bis 300  bis 300 (318) | bis 300 cm2 (309) | bis cm (63...   \n",
      "4             bis 300  bis 300 (318) | bis 300 cm2 (309) | bis cm (63...   \n",
      "\n",
      "   Commentaire_Count                                  Type_Value  Type_Count  \\\n",
      "0               6517  Fissures dues à des déformations empêchées           1   \n",
      "1               6517                                      Eclats           1   \n",
      "2               6517                             Nids de gravier           1   \n",
      "3               5626                                      Eclats         263   \n",
      "4               5626                          autre constatation           1   \n",
      "\n",
      "   Type_PerMille  \n",
      "0         333.33  \n",
      "1         333.33  \n",
      "2         333.33  \n",
      "3         710.81  \n",
      "4           2.70  \n"
     ]
    },
    {
     "name": "stderr",
     "output_type": "stream",
     "text": [
      "Vectorized correlation:  16%|████████▍                                            | 300/1898 [23:19<1:44:04,  3.91s/it]"
     ]
    },
    {
     "name": "stdout",
     "output_type": "stream",
     "text": [
      "Checkpoint at cluster 300: saved 3401 rows.\n",
      "  Commentaire_Cluster                             Commentaire_Variations  \\\n",
      "0             stk bis  stk bis (2916) | stk bis 300 (261) | stk klein...   \n",
      "1             stk bis  stk bis (2916) | stk bis 300 (261) | stk klein...   \n",
      "2             stk bis  stk bis (2916) | stk bis 300 (261) | stk klein...   \n",
      "3             bis 300  bis 300 (318) | bis 300 cm2 (309) | bis cm (63...   \n",
      "4             bis 300  bis 300 (318) | bis 300 cm2 (309) | bis cm (63...   \n",
      "\n",
      "   Commentaire_Count                                  Type_Value  Type_Count  \\\n",
      "0               6517  Fissures dues à des déformations empêchées           1   \n",
      "1               6517                                      Eclats           1   \n",
      "2               6517                             Nids de gravier           1   \n",
      "3               5626                                      Eclats         263   \n",
      "4               5626                          autre constatation           1   \n",
      "\n",
      "   Type_PerMille  \n",
      "0         333.33  \n",
      "1         333.33  \n",
      "2         333.33  \n",
      "3         710.81  \n",
      "4           2.70  \n"
     ]
    },
    {
     "name": "stderr",
     "output_type": "stream",
     "text": [
      "Vectorized correlation:  18%|█████████▊                                           | 350/1898 [27:13<1:35:43,  3.71s/it]"
     ]
    },
    {
     "name": "stdout",
     "output_type": "stream",
     "text": [
      "Checkpoint at cluster 350: saved 4275 rows.\n",
      "  Commentaire_Cluster                             Commentaire_Variations  \\\n",
      "0             stk bis  stk bis (2916) | stk bis 300 (261) | stk klein...   \n",
      "1             stk bis  stk bis (2916) | stk bis 300 (261) | stk klein...   \n",
      "2             stk bis  stk bis (2916) | stk bis 300 (261) | stk klein...   \n",
      "3             bis 300  bis 300 (318) | bis 300 cm2 (309) | bis cm (63...   \n",
      "4             bis 300  bis 300 (318) | bis 300 cm2 (309) | bis cm (63...   \n",
      "\n",
      "   Commentaire_Count                                  Type_Value  Type_Count  \\\n",
      "0               6517  Fissures dues à des déformations empêchées           1   \n",
      "1               6517                                      Eclats           1   \n",
      "2               6517                             Nids de gravier           1   \n",
      "3               5626                                      Eclats         263   \n",
      "4               5626                          autre constatation           1   \n",
      "\n",
      "   Type_PerMille  \n",
      "0         333.33  \n",
      "1         333.33  \n",
      "2         333.33  \n",
      "3         710.81  \n",
      "4           2.70  \n"
     ]
    },
    {
     "name": "stderr",
     "output_type": "stream",
     "text": [
      "Vectorized correlation:  21%|███████████▏                                         | 400/1898 [30:53<1:40:23,  4.02s/it]"
     ]
    },
    {
     "name": "stdout",
     "output_type": "stream",
     "text": [
      "Checkpoint at cluster 400: saved 4809 rows.\n",
      "  Commentaire_Cluster                             Commentaire_Variations  \\\n",
      "0             stk bis  stk bis (2916) | stk bis 300 (261) | stk klein...   \n",
      "1             stk bis  stk bis (2916) | stk bis 300 (261) | stk klein...   \n",
      "2             stk bis  stk bis (2916) | stk bis 300 (261) | stk klein...   \n",
      "3             bis 300  bis 300 (318) | bis 300 cm2 (309) | bis cm (63...   \n",
      "4             bis 300  bis 300 (318) | bis 300 cm2 (309) | bis cm (63...   \n",
      "\n",
      "   Commentaire_Count                                  Type_Value  Type_Count  \\\n",
      "0               6517  Fissures dues à des déformations empêchées           1   \n",
      "1               6517                                      Eclats           1   \n",
      "2               6517                             Nids de gravier           1   \n",
      "3               5626                                      Eclats         263   \n",
      "4               5626                          autre constatation           1   \n",
      "\n",
      "   Type_PerMille  \n",
      "0         333.33  \n",
      "1         333.33  \n",
      "2         333.33  \n",
      "3         710.81  \n",
      "4           2.70  \n"
     ]
    },
    {
     "name": "stderr",
     "output_type": "stream",
     "text": [
      "Vectorized correlation:  24%|████████████▌                                        | 450/1898 [35:38<3:15:01,  8.08s/it]"
     ]
    },
    {
     "name": "stdout",
     "output_type": "stream",
     "text": [
      "Checkpoint at cluster 450: saved 5242 rows.\n",
      "  Commentaire_Cluster                             Commentaire_Variations  \\\n",
      "0             stk bis  stk bis (2916) | stk bis 300 (261) | stk klein...   \n",
      "1             stk bis  stk bis (2916) | stk bis 300 (261) | stk klein...   \n",
      "2             stk bis  stk bis (2916) | stk bis 300 (261) | stk klein...   \n",
      "3             bis 300  bis 300 (318) | bis 300 cm2 (309) | bis cm (63...   \n",
      "4             bis 300  bis 300 (318) | bis 300 cm2 (309) | bis cm (63...   \n",
      "\n",
      "   Commentaire_Count                                  Type_Value  Type_Count  \\\n",
      "0               6517  Fissures dues à des déformations empêchées           1   \n",
      "1               6517                                      Eclats           1   \n",
      "2               6517                             Nids de gravier           1   \n",
      "3               5626                                      Eclats         263   \n",
      "4               5626                          autre constatation           1   \n",
      "\n",
      "   Type_PerMille  \n",
      "0         333.33  \n",
      "1         333.33  \n",
      "2         333.33  \n",
      "3         710.81  \n",
      "4           2.70  \n"
     ]
    },
    {
     "name": "stderr",
     "output_type": "stream",
     "text": [
      "Vectorized correlation:  26%|█████████████▉                                       | 500/1898 [40:03<1:41:38,  4.36s/it]"
     ]
    },
    {
     "name": "stdout",
     "output_type": "stream",
     "text": [
      "Checkpoint at cluster 500: saved 5856 rows.\n",
      "  Commentaire_Cluster                             Commentaire_Variations  \\\n",
      "0             stk bis  stk bis (2916) | stk bis 300 (261) | stk klein...   \n",
      "1             stk bis  stk bis (2916) | stk bis 300 (261) | stk klein...   \n",
      "2             stk bis  stk bis (2916) | stk bis 300 (261) | stk klein...   \n",
      "3             bis 300  bis 300 (318) | bis 300 cm2 (309) | bis cm (63...   \n",
      "4             bis 300  bis 300 (318) | bis 300 cm2 (309) | bis cm (63...   \n",
      "\n",
      "   Commentaire_Count                                  Type_Value  Type_Count  \\\n",
      "0               6517  Fissures dues à des déformations empêchées           1   \n",
      "1               6517                                      Eclats           1   \n",
      "2               6517                             Nids de gravier           1   \n",
      "3               5626                                      Eclats         263   \n",
      "4               5626                          autre constatation           1   \n",
      "\n",
      "   Type_PerMille  \n",
      "0         333.33  \n",
      "1         333.33  \n",
      "2         333.33  \n",
      "3         710.81  \n",
      "4           2.70  \n"
     ]
    },
    {
     "name": "stderr",
     "output_type": "stream",
     "text": [
      "Vectorized correlation:  29%|███████████████▎                                     | 550/1898 [43:43<1:29:40,  3.99s/it]"
     ]
    },
    {
     "name": "stdout",
     "output_type": "stream",
     "text": [
      "Checkpoint at cluster 550: saved 6228 rows.\n",
      "  Commentaire_Cluster                             Commentaire_Variations  \\\n",
      "0             stk bis  stk bis (2916) | stk bis 300 (261) | stk klein...   \n",
      "1             stk bis  stk bis (2916) | stk bis 300 (261) | stk klein...   \n",
      "2             stk bis  stk bis (2916) | stk bis 300 (261) | stk klein...   \n",
      "3             bis 300  bis 300 (318) | bis 300 cm2 (309) | bis cm (63...   \n",
      "4             bis 300  bis 300 (318) | bis 300 cm2 (309) | bis cm (63...   \n",
      "\n",
      "   Commentaire_Count                                  Type_Value  Type_Count  \\\n",
      "0               6517  Fissures dues à des déformations empêchées           1   \n",
      "1               6517                                      Eclats           1   \n",
      "2               6517                             Nids de gravier           1   \n",
      "3               5626                                      Eclats         263   \n",
      "4               5626                          autre constatation           1   \n",
      "\n",
      "   Type_PerMille  \n",
      "0         333.33  \n",
      "1         333.33  \n",
      "2         333.33  \n",
      "3         710.81  \n",
      "4           2.70  \n"
     ]
    },
    {
     "name": "stderr",
     "output_type": "stream",
     "text": [
      "Vectorized correlation:  34%|██████████████████▏                                  | 650/1898 [52:12<2:06:22,  6.08s/it]"
     ]
    },
    {
     "name": "stdout",
     "output_type": "stream",
     "text": [
      "Checkpoint at cluster 650: saved 7163 rows.\n",
      "  Commentaire_Cluster                             Commentaire_Variations  \\\n",
      "0             stk bis  stk bis (2916) | stk bis 300 (261) | stk klein...   \n",
      "1             stk bis  stk bis (2916) | stk bis 300 (261) | stk klein...   \n",
      "2             stk bis  stk bis (2916) | stk bis 300 (261) | stk klein...   \n",
      "3             bis 300  bis 300 (318) | bis 300 cm2 (309) | bis cm (63...   \n",
      "4             bis 300  bis 300 (318) | bis 300 cm2 (309) | bis cm (63...   \n",
      "\n",
      "   Commentaire_Count                                  Type_Value  Type_Count  \\\n",
      "0               6517  Fissures dues à des déformations empêchées           1   \n",
      "1               6517                                      Eclats           1   \n",
      "2               6517                             Nids de gravier           1   \n",
      "3               5626                                      Eclats         263   \n",
      "4               5626                          autre constatation           1   \n",
      "\n",
      "   Type_PerMille  \n",
      "0         333.33  \n",
      "1         333.33  \n",
      "2         333.33  \n",
      "3         710.81  \n",
      "4           2.70  \n"
     ]
    },
    {
     "name": "stderr",
     "output_type": "stream",
     "text": [
      "Vectorized correlation:  37%|███████████████████▌                                 | 700/1898 [56:22<1:25:21,  4.27s/it]"
     ]
    },
    {
     "name": "stdout",
     "output_type": "stream",
     "text": [
      "Checkpoint at cluster 700: saved 7763 rows.\n",
      "  Commentaire_Cluster                             Commentaire_Variations  \\\n",
      "0             stk bis  stk bis (2916) | stk bis 300 (261) | stk klein...   \n",
      "1             stk bis  stk bis (2916) | stk bis 300 (261) | stk klein...   \n",
      "2             stk bis  stk bis (2916) | stk bis 300 (261) | stk klein...   \n",
      "3             bis 300  bis 300 (318) | bis 300 cm2 (309) | bis cm (63...   \n",
      "4             bis 300  bis 300 (318) | bis 300 cm2 (309) | bis cm (63...   \n",
      "\n",
      "   Commentaire_Count                                  Type_Value  Type_Count  \\\n",
      "0               6517  Fissures dues à des déformations empêchées           1   \n",
      "1               6517                                      Eclats           1   \n",
      "2               6517                             Nids de gravier           1   \n",
      "3               5626                                      Eclats         263   \n",
      "4               5626                          autre constatation           1   \n",
      "\n",
      "   Type_PerMille  \n",
      "0         333.33  \n",
      "1         333.33  \n",
      "2         333.33  \n",
      "3         710.81  \n",
      "4           2.70  \n"
     ]
    },
    {
     "name": "stderr",
     "output_type": "stream",
     "text": [
      "Vectorized correlation:  40%|████████████████████▏                              | 750/1898 [1:00:11<1:06:22,  3.47s/it]"
     ]
    },
    {
     "name": "stdout",
     "output_type": "stream",
     "text": [
      "Checkpoint at cluster 750: saved 8286 rows.\n",
      "  Commentaire_Cluster                             Commentaire_Variations  \\\n",
      "0             stk bis  stk bis (2916) | stk bis 300 (261) | stk klein...   \n",
      "1             stk bis  stk bis (2916) | stk bis 300 (261) | stk klein...   \n",
      "2             stk bis  stk bis (2916) | stk bis 300 (261) | stk klein...   \n",
      "3             bis 300  bis 300 (318) | bis 300 cm2 (309) | bis cm (63...   \n",
      "4             bis 300  bis 300 (318) | bis 300 cm2 (309) | bis cm (63...   \n",
      "\n",
      "   Commentaire_Count                                  Type_Value  Type_Count  \\\n",
      "0               6517  Fissures dues à des déformations empêchées           1   \n",
      "1               6517                                      Eclats           1   \n",
      "2               6517                             Nids de gravier           1   \n",
      "3               5626                                      Eclats         263   \n",
      "4               5626                          autre constatation           1   \n",
      "\n",
      "   Type_PerMille  \n",
      "0         333.33  \n",
      "1         333.33  \n",
      "2         333.33  \n",
      "3         710.81  \n",
      "4           2.70  \n"
     ]
    },
    {
     "name": "stderr",
     "output_type": "stream",
     "text": [
      "Vectorized correlation:  42%|█████████████████████▍                             | 800/1898 [1:05:00<1:51:51,  6.11s/it]"
     ]
    },
    {
     "name": "stdout",
     "output_type": "stream",
     "text": [
      "Checkpoint at cluster 800: saved 8845 rows.\n",
      "  Commentaire_Cluster                             Commentaire_Variations  \\\n",
      "0             stk bis  stk bis (2916) | stk bis 300 (261) | stk klein...   \n",
      "1             stk bis  stk bis (2916) | stk bis 300 (261) | stk klein...   \n",
      "2             stk bis  stk bis (2916) | stk bis 300 (261) | stk klein...   \n",
      "3             bis 300  bis 300 (318) | bis 300 cm2 (309) | bis cm (63...   \n",
      "4             bis 300  bis 300 (318) | bis 300 cm2 (309) | bis cm (63...   \n",
      "\n",
      "   Commentaire_Count                                  Type_Value  Type_Count  \\\n",
      "0               6517  Fissures dues à des déformations empêchées           1   \n",
      "1               6517                                      Eclats           1   \n",
      "2               6517                             Nids de gravier           1   \n",
      "3               5626                                      Eclats         263   \n",
      "4               5626                          autre constatation           1   \n",
      "\n",
      "   Type_PerMille  \n",
      "0         333.33  \n",
      "1         333.33  \n",
      "2         333.33  \n",
      "3         710.81  \n",
      "4           2.70  \n"
     ]
    },
    {
     "name": "stderr",
     "output_type": "stream",
     "text": [
      "Vectorized correlation:  45%|██████████████████████▊                            | 850/1898 [1:09:10<1:14:33,  4.27s/it]"
     ]
    },
    {
     "name": "stdout",
     "output_type": "stream",
     "text": [
      "Checkpoint at cluster 850: saved 9247 rows.\n",
      "  Commentaire_Cluster                             Commentaire_Variations  \\\n",
      "0             stk bis  stk bis (2916) | stk bis 300 (261) | stk klein...   \n",
      "1             stk bis  stk bis (2916) | stk bis 300 (261) | stk klein...   \n",
      "2             stk bis  stk bis (2916) | stk bis 300 (261) | stk klein...   \n",
      "3             bis 300  bis 300 (318) | bis 300 cm2 (309) | bis cm (63...   \n",
      "4             bis 300  bis 300 (318) | bis 300 cm2 (309) | bis cm (63...   \n",
      "\n",
      "   Commentaire_Count                                  Type_Value  Type_Count  \\\n",
      "0               6517  Fissures dues à des déformations empêchées           1   \n",
      "1               6517                                      Eclats           1   \n",
      "2               6517                             Nids de gravier           1   \n",
      "3               5626                                      Eclats         263   \n",
      "4               5626                          autre constatation           1   \n",
      "\n",
      "   Type_PerMille  \n",
      "0         333.33  \n",
      "1         333.33  \n",
      "2         333.33  \n",
      "3         710.81  \n",
      "4           2.70  \n"
     ]
    },
    {
     "name": "stderr",
     "output_type": "stream",
     "text": [
      "Vectorized correlation:  47%|████████████████████████▏                          | 900/1898 [1:13:31<1:20:53,  4.86s/it]"
     ]
    },
    {
     "name": "stdout",
     "output_type": "stream",
     "text": [
      "Checkpoint at cluster 900: saved 9671 rows.\n",
      "  Commentaire_Cluster                             Commentaire_Variations  \\\n",
      "0             stk bis  stk bis (2916) | stk bis 300 (261) | stk klein...   \n",
      "1             stk bis  stk bis (2916) | stk bis 300 (261) | stk klein...   \n",
      "2             stk bis  stk bis (2916) | stk bis 300 (261) | stk klein...   \n",
      "3             bis 300  bis 300 (318) | bis 300 cm2 (309) | bis cm (63...   \n",
      "4             bis 300  bis 300 (318) | bis 300 cm2 (309) | bis cm (63...   \n",
      "\n",
      "   Commentaire_Count                                  Type_Value  Type_Count  \\\n",
      "0               6517  Fissures dues à des déformations empêchées           1   \n",
      "1               6517                                      Eclats           1   \n",
      "2               6517                             Nids de gravier           1   \n",
      "3               5626                                      Eclats         263   \n",
      "4               5626                          autre constatation           1   \n",
      "\n",
      "   Type_PerMille  \n",
      "0         333.33  \n",
      "1         333.33  \n",
      "2         333.33  \n",
      "3         710.81  \n",
      "4           2.70  \n"
     ]
    },
    {
     "name": "stderr",
     "output_type": "stream",
     "text": [
      "Vectorized correlation:  50%|█████████████████████████▌                         | 950/1898 [1:17:59<1:19:35,  5.04s/it]"
     ]
    },
    {
     "name": "stdout",
     "output_type": "stream",
     "text": [
      "Checkpoint at cluster 950: saved 10104 rows.\n",
      "  Commentaire_Cluster                             Commentaire_Variations  \\\n",
      "0             stk bis  stk bis (2916) | stk bis 300 (261) | stk klein...   \n",
      "1             stk bis  stk bis (2916) | stk bis 300 (261) | stk klein...   \n",
      "2             stk bis  stk bis (2916) | stk bis 300 (261) | stk klein...   \n",
      "3             bis 300  bis 300 (318) | bis 300 cm2 (309) | bis cm (63...   \n",
      "4             bis 300  bis 300 (318) | bis 300 cm2 (309) | bis cm (63...   \n",
      "\n",
      "   Commentaire_Count                                  Type_Value  Type_Count  \\\n",
      "0               6517  Fissures dues à des déformations empêchées           1   \n",
      "1               6517                                      Eclats           1   \n",
      "2               6517                             Nids de gravier           1   \n",
      "3               5626                                      Eclats         263   \n",
      "4               5626                          autre constatation           1   \n",
      "\n",
      "   Type_PerMille  \n",
      "0         333.33  \n",
      "1         333.33  \n",
      "2         333.33  \n",
      "3         710.81  \n",
      "4           2.70  \n"
     ]
    },
    {
     "name": "stderr",
     "output_type": "stream",
     "text": [
      "Vectorized correlation:  53%|███████████████████████████▍                        | 1000/1898 [1:22:35<59:33,  3.98s/it]"
     ]
    },
    {
     "name": "stdout",
     "output_type": "stream",
     "text": [
      "Checkpoint at cluster 1000: saved 10553 rows.\n",
      "  Commentaire_Cluster                             Commentaire_Variations  \\\n",
      "0             stk bis  stk bis (2916) | stk bis 300 (261) | stk klein...   \n",
      "1             stk bis  stk bis (2916) | stk bis 300 (261) | stk klein...   \n",
      "2             stk bis  stk bis (2916) | stk bis 300 (261) | stk klein...   \n",
      "3             bis 300  bis 300 (318) | bis 300 cm2 (309) | bis cm (63...   \n",
      "4             bis 300  bis 300 (318) | bis 300 cm2 (309) | bis cm (63...   \n",
      "\n",
      "   Commentaire_Count                                  Type_Value  Type_Count  \\\n",
      "0               6517  Fissures dues à des déformations empêchées           1   \n",
      "1               6517                                      Eclats           1   \n",
      "2               6517                             Nids de gravier           1   \n",
      "3               5626                                      Eclats         263   \n",
      "4               5626                          autre constatation           1   \n",
      "\n",
      "   Type_PerMille  \n",
      "0         333.33  \n",
      "1         333.33  \n",
      "2         333.33  \n",
      "3         710.81  \n",
      "4           2.70  \n"
     ]
    },
    {
     "name": "stderr",
     "output_type": "stream",
     "text": [
      "Vectorized correlation:  55%|███████████████████████████▋                      | 1050/1898 [1:26:29<1:23:36,  5.92s/it]"
     ]
    },
    {
     "name": "stdout",
     "output_type": "stream",
     "text": [
      "Checkpoint at cluster 1050: saved 11014 rows.\n",
      "  Commentaire_Cluster                             Commentaire_Variations  \\\n",
      "0             stk bis  stk bis (2916) | stk bis 300 (261) | stk klein...   \n",
      "1             stk bis  stk bis (2916) | stk bis 300 (261) | stk klein...   \n",
      "2             stk bis  stk bis (2916) | stk bis 300 (261) | stk klein...   \n",
      "3             bis 300  bis 300 (318) | bis 300 cm2 (309) | bis cm (63...   \n",
      "4             bis 300  bis 300 (318) | bis 300 cm2 (309) | bis cm (63...   \n",
      "\n",
      "   Commentaire_Count                                  Type_Value  Type_Count  \\\n",
      "0               6517  Fissures dues à des déformations empêchées           1   \n",
      "1               6517                                      Eclats           1   \n",
      "2               6517                             Nids de gravier           1   \n",
      "3               5626                                      Eclats         263   \n",
      "4               5626                          autre constatation           1   \n",
      "\n",
      "   Type_PerMille  \n",
      "0         333.33  \n",
      "1         333.33  \n",
      "2         333.33  \n",
      "3         710.81  \n",
      "4           2.70  \n"
     ]
    },
    {
     "name": "stderr",
     "output_type": "stream",
     "text": [
      "Vectorized correlation:  58%|████████████████████████████▉                     | 1100/1898 [1:30:11<1:03:35,  4.78s/it]"
     ]
    },
    {
     "name": "stdout",
     "output_type": "stream",
     "text": [
      "Checkpoint at cluster 1100: saved 11378 rows.\n",
      "  Commentaire_Cluster                             Commentaire_Variations  \\\n",
      "0             stk bis  stk bis (2916) | stk bis 300 (261) | stk klein...   \n",
      "1             stk bis  stk bis (2916) | stk bis 300 (261) | stk klein...   \n",
      "2             stk bis  stk bis (2916) | stk bis 300 (261) | stk klein...   \n",
      "3             bis 300  bis 300 (318) | bis 300 cm2 (309) | bis cm (63...   \n",
      "4             bis 300  bis 300 (318) | bis 300 cm2 (309) | bis cm (63...   \n",
      "\n",
      "   Commentaire_Count                                  Type_Value  Type_Count  \\\n",
      "0               6517  Fissures dues à des déformations empêchées           1   \n",
      "1               6517                                      Eclats           1   \n",
      "2               6517                             Nids de gravier           1   \n",
      "3               5626                                      Eclats         263   \n",
      "4               5626                          autre constatation           1   \n",
      "\n",
      "   Type_PerMille  \n",
      "0         333.33  \n",
      "1         333.33  \n",
      "2         333.33  \n",
      "3         710.81  \n",
      "4           2.70  \n"
     ]
    },
    {
     "name": "stderr",
     "output_type": "stream",
     "text": [
      "Vectorized correlation:  61%|███████████████████████████████▌                    | 1150/1898 [1:34:11<57:44,  4.63s/it]"
     ]
    },
    {
     "name": "stdout",
     "output_type": "stream",
     "text": [
      "Checkpoint at cluster 1150: saved 11586 rows.\n",
      "  Commentaire_Cluster                             Commentaire_Variations  \\\n",
      "0             stk bis  stk bis (2916) | stk bis 300 (261) | stk klein...   \n",
      "1             stk bis  stk bis (2916) | stk bis 300 (261) | stk klein...   \n",
      "2             stk bis  stk bis (2916) | stk bis 300 (261) | stk klein...   \n",
      "3             bis 300  bis 300 (318) | bis 300 cm2 (309) | bis cm (63...   \n",
      "4             bis 300  bis 300 (318) | bis 300 cm2 (309) | bis cm (63...   \n",
      "\n",
      "   Commentaire_Count                                  Type_Value  Type_Count  \\\n",
      "0               6517  Fissures dues à des déformations empêchées           1   \n",
      "1               6517                                      Eclats           1   \n",
      "2               6517                             Nids de gravier           1   \n",
      "3               5626                                      Eclats         263   \n",
      "4               5626                          autre constatation           1   \n",
      "\n",
      "   Type_PerMille  \n",
      "0         333.33  \n",
      "1         333.33  \n",
      "2         333.33  \n",
      "3         710.81  \n",
      "4           2.70  \n"
     ]
    },
    {
     "name": "stderr",
     "output_type": "stream",
     "text": [
      "Vectorized correlation:  66%|████████████████████████████████▉                 | 1250/1898 [1:41:44<1:05:27,  6.06s/it]"
     ]
    },
    {
     "name": "stdout",
     "output_type": "stream",
     "text": [
      "Checkpoint at cluster 1250: saved 12117 rows.\n",
      "  Commentaire_Cluster                             Commentaire_Variations  \\\n",
      "0             stk bis  stk bis (2916) | stk bis 300 (261) | stk klein...   \n",
      "1             stk bis  stk bis (2916) | stk bis 300 (261) | stk klein...   \n",
      "2             stk bis  stk bis (2916) | stk bis 300 (261) | stk klein...   \n",
      "3             bis 300  bis 300 (318) | bis 300 cm2 (309) | bis cm (63...   \n",
      "4             bis 300  bis 300 (318) | bis 300 cm2 (309) | bis cm (63...   \n",
      "\n",
      "   Commentaire_Count                                  Type_Value  Type_Count  \\\n",
      "0               6517  Fissures dues à des déformations empêchées           1   \n",
      "1               6517                                      Eclats           1   \n",
      "2               6517                             Nids de gravier           1   \n",
      "3               5626                                      Eclats         263   \n",
      "4               5626                          autre constatation           1   \n",
      "\n",
      "   Type_PerMille  \n",
      "0         333.33  \n",
      "1         333.33  \n",
      "2         333.33  \n",
      "3         710.81  \n",
      "4           2.70  \n"
     ]
    },
    {
     "name": "stderr",
     "output_type": "stream",
     "text": [
      "Vectorized correlation:  74%|██████████████████████████████████████▎             | 1400/1898 [1:54:06<37:18,  4.50s/it]"
     ]
    },
    {
     "name": "stdout",
     "output_type": "stream",
     "text": [
      "Checkpoint at cluster 1400: saved 12847 rows.\n",
      "  Commentaire_Cluster                             Commentaire_Variations  \\\n",
      "0             stk bis  stk bis (2916) | stk bis 300 (261) | stk klein...   \n",
      "1             stk bis  stk bis (2916) | stk bis 300 (261) | stk klein...   \n",
      "2             stk bis  stk bis (2916) | stk bis 300 (261) | stk klein...   \n",
      "3             bis 300  bis 300 (318) | bis 300 cm2 (309) | bis cm (63...   \n",
      "4             bis 300  bis 300 (318) | bis 300 cm2 (309) | bis cm (63...   \n",
      "\n",
      "   Commentaire_Count                                  Type_Value  Type_Count  \\\n",
      "0               6517  Fissures dues à des déformations empêchées           1   \n",
      "1               6517                                      Eclats           1   \n",
      "2               6517                             Nids de gravier           1   \n",
      "3               5626                                      Eclats         263   \n",
      "4               5626                          autre constatation           1   \n",
      "\n",
      "   Type_PerMille  \n",
      "0         333.33  \n",
      "1         333.33  \n",
      "2         333.33  \n",
      "3         710.81  \n",
      "4           2.70  \n"
     ]
    },
    {
     "name": "stderr",
     "output_type": "stream",
     "text": [
      "Vectorized correlation:  76%|███████████████████████████████████████▋            | 1450/1898 [1:58:00<37:12,  4.98s/it]"
     ]
    },
    {
     "name": "stdout",
     "output_type": "stream",
     "text": [
      "Checkpoint at cluster 1450: saved 13202 rows.\n",
      "  Commentaire_Cluster                             Commentaire_Variations  \\\n",
      "0             stk bis  stk bis (2916) | stk bis 300 (261) | stk klein...   \n",
      "1             stk bis  stk bis (2916) | stk bis 300 (261) | stk klein...   \n",
      "2             stk bis  stk bis (2916) | stk bis 300 (261) | stk klein...   \n",
      "3             bis 300  bis 300 (318) | bis 300 cm2 (309) | bis cm (63...   \n",
      "4             bis 300  bis 300 (318) | bis 300 cm2 (309) | bis cm (63...   \n",
      "\n",
      "   Commentaire_Count                                  Type_Value  Type_Count  \\\n",
      "0               6517  Fissures dues à des déformations empêchées           1   \n",
      "1               6517                                      Eclats           1   \n",
      "2               6517                             Nids de gravier           1   \n",
      "3               5626                                      Eclats         263   \n",
      "4               5626                          autre constatation           1   \n",
      "\n",
      "   Type_PerMille  \n",
      "0         333.33  \n",
      "1         333.33  \n",
      "2         333.33  \n",
      "3         710.81  \n",
      "4           2.70  \n"
     ]
    },
    {
     "name": "stderr",
     "output_type": "stream",
     "text": [
      "Vectorized correlation:  79%|█████████████████████████████████████████           | 1500/1898 [2:01:46<34:01,  5.13s/it]"
     ]
    },
    {
     "name": "stdout",
     "output_type": "stream",
     "text": [
      "Checkpoint at cluster 1500: saved 13561 rows.\n",
      "  Commentaire_Cluster                             Commentaire_Variations  \\\n",
      "0             stk bis  stk bis (2916) | stk bis 300 (261) | stk klein...   \n",
      "1             stk bis  stk bis (2916) | stk bis 300 (261) | stk klein...   \n",
      "2             stk bis  stk bis (2916) | stk bis 300 (261) | stk klein...   \n",
      "3             bis 300  bis 300 (318) | bis 300 cm2 (309) | bis cm (63...   \n",
      "4             bis 300  bis 300 (318) | bis 300 cm2 (309) | bis cm (63...   \n",
      "\n",
      "   Commentaire_Count                                  Type_Value  Type_Count  \\\n",
      "0               6517  Fissures dues à des déformations empêchées           1   \n",
      "1               6517                                      Eclats           1   \n",
      "2               6517                             Nids de gravier           1   \n",
      "3               5626                                      Eclats         263   \n",
      "4               5626                          autre constatation           1   \n",
      "\n",
      "   Type_PerMille  \n",
      "0         333.33  \n",
      "1         333.33  \n",
      "2         333.33  \n",
      "3         710.81  \n",
      "4           2.70  \n"
     ]
    },
    {
     "name": "stderr",
     "output_type": "stream",
     "text": [
      "Vectorized correlation:  82%|██████████████████████████████████████████▍         | 1550/1898 [2:06:40<36:22,  6.27s/it]"
     ]
    },
    {
     "name": "stdout",
     "output_type": "stream",
     "text": [
      "Checkpoint at cluster 1550: saved 13799 rows.\n",
      "  Commentaire_Cluster                             Commentaire_Variations  \\\n",
      "0             stk bis  stk bis (2916) | stk bis 300 (261) | stk klein...   \n",
      "1             stk bis  stk bis (2916) | stk bis 300 (261) | stk klein...   \n",
      "2             stk bis  stk bis (2916) | stk bis 300 (261) | stk klein...   \n",
      "3             bis 300  bis 300 (318) | bis 300 cm2 (309) | bis cm (63...   \n",
      "4             bis 300  bis 300 (318) | bis 300 cm2 (309) | bis cm (63...   \n",
      "\n",
      "   Commentaire_Count                                  Type_Value  Type_Count  \\\n",
      "0               6517  Fissures dues à des déformations empêchées           1   \n",
      "1               6517                                      Eclats           1   \n",
      "2               6517                             Nids de gravier           1   \n",
      "3               5626                                      Eclats         263   \n",
      "4               5626                          autre constatation           1   \n",
      "\n",
      "   Type_PerMille  \n",
      "0         333.33  \n",
      "1         333.33  \n",
      "2         333.33  \n",
      "3         710.81  \n",
      "4           2.70  \n"
     ]
    },
    {
     "name": "stderr",
     "output_type": "stream",
     "text": [
      "Vectorized correlation:  84%|███████████████████████████████████████████▊        | 1600/1898 [2:11:13<22:38,  4.56s/it]"
     ]
    },
    {
     "name": "stdout",
     "output_type": "stream",
     "text": [
      "Checkpoint at cluster 1600: saved 14248 rows.\n",
      "  Commentaire_Cluster                             Commentaire_Variations  \\\n",
      "0             stk bis  stk bis (2916) | stk bis 300 (261) | stk klein...   \n",
      "1             stk bis  stk bis (2916) | stk bis 300 (261) | stk klein...   \n",
      "2             stk bis  stk bis (2916) | stk bis 300 (261) | stk klein...   \n",
      "3             bis 300  bis 300 (318) | bis 300 cm2 (309) | bis cm (63...   \n",
      "4             bis 300  bis 300 (318) | bis 300 cm2 (309) | bis cm (63...   \n",
      "\n",
      "   Commentaire_Count                                  Type_Value  Type_Count  \\\n",
      "0               6517  Fissures dues à des déformations empêchées           1   \n",
      "1               6517                                      Eclats           1   \n",
      "2               6517                             Nids de gravier           1   \n",
      "3               5626                                      Eclats         263   \n",
      "4               5626                          autre constatation           1   \n",
      "\n",
      "   Type_PerMille  \n",
      "0         333.33  \n",
      "1         333.33  \n",
      "2         333.33  \n",
      "3         710.81  \n",
      "4           2.70  \n"
     ]
    },
    {
     "name": "stderr",
     "output_type": "stream",
     "text": [
      "Vectorized correlation:  87%|█████████████████████████████████████████████▏      | 1650/1898 [2:15:26<17:13,  4.17s/it]"
     ]
    },
    {
     "name": "stdout",
     "output_type": "stream",
     "text": [
      "Checkpoint at cluster 1650: saved 14477 rows.\n",
      "  Commentaire_Cluster                             Commentaire_Variations  \\\n",
      "0             stk bis  stk bis (2916) | stk bis 300 (261) | stk klein...   \n",
      "1             stk bis  stk bis (2916) | stk bis 300 (261) | stk klein...   \n",
      "2             stk bis  stk bis (2916) | stk bis 300 (261) | stk klein...   \n",
      "3             bis 300  bis 300 (318) | bis 300 cm2 (309) | bis cm (63...   \n",
      "4             bis 300  bis 300 (318) | bis 300 cm2 (309) | bis cm (63...   \n",
      "\n",
      "   Commentaire_Count                                  Type_Value  Type_Count  \\\n",
      "0               6517  Fissures dues à des déformations empêchées           1   \n",
      "1               6517                                      Eclats           1   \n",
      "2               6517                             Nids de gravier           1   \n",
      "3               5626                                      Eclats         263   \n",
      "4               5626                          autre constatation           1   \n",
      "\n",
      "   Type_PerMille  \n",
      "0         333.33  \n",
      "1         333.33  \n",
      "2         333.33  \n",
      "3         710.81  \n",
      "4           2.70  \n"
     ]
    },
    {
     "name": "stderr",
     "output_type": "stream",
     "text": [
      "Vectorized correlation:  90%|██████████████████████████████████████████████▌     | 1700/1898 [2:20:27<22:58,  6.96s/it]"
     ]
    },
    {
     "name": "stdout",
     "output_type": "stream",
     "text": [
      "Checkpoint at cluster 1700: saved 14748 rows.\n",
      "  Commentaire_Cluster                             Commentaire_Variations  \\\n",
      "0             stk bis  stk bis (2916) | stk bis 300 (261) | stk klein...   \n",
      "1             stk bis  stk bis (2916) | stk bis 300 (261) | stk klein...   \n",
      "2             stk bis  stk bis (2916) | stk bis 300 (261) | stk klein...   \n",
      "3             bis 300  bis 300 (318) | bis 300 cm2 (309) | bis cm (63...   \n",
      "4             bis 300  bis 300 (318) | bis 300 cm2 (309) | bis cm (63...   \n",
      "\n",
      "   Commentaire_Count                                  Type_Value  Type_Count  \\\n",
      "0               6517  Fissures dues à des déformations empêchées           1   \n",
      "1               6517                                      Eclats           1   \n",
      "2               6517                             Nids de gravier           1   \n",
      "3               5626                                      Eclats         263   \n",
      "4               5626                          autre constatation           1   \n",
      "\n",
      "   Type_PerMille  \n",
      "0         333.33  \n",
      "1         333.33  \n",
      "2         333.33  \n",
      "3         710.81  \n",
      "4           2.70  \n"
     ]
    },
    {
     "name": "stderr",
     "output_type": "stream",
     "text": [
      "Vectorized correlation:  95%|█████████████████████████████████████████████████▎  | 1800/1898 [2:31:38<06:56,  4.25s/it]"
     ]
    },
    {
     "name": "stdout",
     "output_type": "stream",
     "text": [
      "Checkpoint at cluster 1800: saved 15039 rows.\n",
      "  Commentaire_Cluster                             Commentaire_Variations  \\\n",
      "0             stk bis  stk bis (2916) | stk bis 300 (261) | stk klein...   \n",
      "1             stk bis  stk bis (2916) | stk bis 300 (261) | stk klein...   \n",
      "2             stk bis  stk bis (2916) | stk bis 300 (261) | stk klein...   \n",
      "3             bis 300  bis 300 (318) | bis 300 cm2 (309) | bis cm (63...   \n",
      "4             bis 300  bis 300 (318) | bis 300 cm2 (309) | bis cm (63...   \n",
      "\n",
      "   Commentaire_Count                                  Type_Value  Type_Count  \\\n",
      "0               6517  Fissures dues à des déformations empêchées           1   \n",
      "1               6517                                      Eclats           1   \n",
      "2               6517                             Nids de gravier           1   \n",
      "3               5626                                      Eclats         263   \n",
      "4               5626                          autre constatation           1   \n",
      "\n",
      "   Type_PerMille  \n",
      "0         333.33  \n",
      "1         333.33  \n",
      "2         333.33  \n",
      "3         710.81  \n",
      "4           2.70  \n"
     ]
    },
    {
     "name": "stderr",
     "output_type": "stream",
     "text": [
      "Vectorized correlation:  97%|██████████████████████████████████████████████████▋ | 1850/1898 [2:36:30<06:40,  8.34s/it]"
     ]
    },
    {
     "name": "stdout",
     "output_type": "stream",
     "text": [
      "Checkpoint at cluster 1850: saved 15237 rows.\n",
      "  Commentaire_Cluster                             Commentaire_Variations  \\\n",
      "0             stk bis  stk bis (2916) | stk bis 300 (261) | stk klein...   \n",
      "1             stk bis  stk bis (2916) | stk bis 300 (261) | stk klein...   \n",
      "2             stk bis  stk bis (2916) | stk bis 300 (261) | stk klein...   \n",
      "3             bis 300  bis 300 (318) | bis 300 cm2 (309) | bis cm (63...   \n",
      "4             bis 300  bis 300 (318) | bis 300 cm2 (309) | bis cm (63...   \n",
      "\n",
      "   Commentaire_Count                                  Type_Value  Type_Count  \\\n",
      "0               6517  Fissures dues à des déformations empêchées           1   \n",
      "1               6517                                      Eclats           1   \n",
      "2               6517                             Nids de gravier           1   \n",
      "3               5626                                      Eclats         263   \n",
      "4               5626                          autre constatation           1   \n",
      "\n",
      "   Type_PerMille  \n",
      "0         333.33  \n",
      "1         333.33  \n",
      "2         333.33  \n",
      "3         710.81  \n",
      "4           2.70  \n"
     ]
    },
    {
     "name": "stderr",
     "output_type": "stream",
     "text": [
      "Vectorized correlation: 100%|████████████████████████████████████████████████████| 1898/1898 [2:44:02<00:00,  5.19s/it]\n"
     ]
    },
    {
     "name": "stdout",
     "output_type": "stream",
     "text": [
      "Saved 'commentaire_type_correlations.csv' with 15494 rows.\n",
      "\n",
      "Sample correlations:\n",
      "  Commentaire_Cluster                             Commentaire_Variations  \\\n",
      "0             stk bis  stk bis (2916) | stk bis 300 (261) | stk klein...   \n",
      "1             stk bis  stk bis (2916) | stk bis 300 (261) | stk klein...   \n",
      "2             stk bis  stk bis (2916) | stk bis 300 (261) | stk klein...   \n",
      "3             bis 300  bis 300 (318) | bis 300 cm2 (309) | bis cm (63...   \n",
      "4             bis 300  bis 300 (318) | bis 300 cm2 (309) | bis cm (63...   \n",
      "5             bis 300  bis 300 (318) | bis 300 cm2 (309) | bis cm (63...   \n",
      "6             bis 300  bis 300 (318) | bis 300 cm2 (309) | bis cm (63...   \n",
      "7             bis 300  bis 300 (318) | bis 300 cm2 (309) | bis cm (63...   \n",
      "8             bis 300  bis 300 (318) | bis 300 cm2 (309) | bis cm (63...   \n",
      "9             bis 300  bis 300 (318) | bis 300 cm2 (309) | bis cm (63...   \n",
      "\n",
      "   Commentaire_Count                                  Type_Value  Type_Count  \\\n",
      "0               6517  Fissures dues à des déformations empêchées           1   \n",
      "1               6517                                      Eclats           1   \n",
      "2               6517                             Nids de gravier           1   \n",
      "3               5626                                      Eclats         263   \n",
      "4               5626                          autre constatation           1   \n",
      "5               5626                Armature légèrement corrodée           5   \n",
      "6               5626         Haute teneur en chlorure en surface           1   \n",
      "7               5626                     Ecaillage du rhabillage          43   \n",
      "8               5626                             Nids de gravier           8   \n",
      "9               5626                           Eclats dus au gel          20   \n",
      "\n",
      "   Type_PerMille  \n",
      "0         333.33  \n",
      "1         333.33  \n",
      "2         333.33  \n",
      "3         710.81  \n",
      "4           2.70  \n",
      "5          13.51  \n",
      "6           2.70  \n",
      "7         116.22  \n",
      "8          21.62  \n",
      "9          54.05  \n",
      "\n",
      "Rows matched by clusters: 21919 out of 48227\n"
     ]
    }
   ],
   "source": [
    "import os\n",
    "import re\n",
    "import unicodedata\n",
    "import pandas as pd\n",
    "from collections import Counter\n",
    "from rapidfuzz import fuzz, process\n",
    "from rapidfuzz.distance import Levenshtein\n",
    "from tqdm import tqdm\n",
    "\n",
    "# ---------- CONFIG ----------\n",
    "csv_file = \"20250903_Extrait_Constatations_F2.csv\"  # update path if needed\n",
    "comment_col = \"Commentaire\"\n",
    "type_col = \"Type de constatation Texte\"\n",
    "\n",
    "# clustering params\n",
    "min_words = 2\n",
    "max_words = 5\n",
    "comment_min_occurrences = 7   # minimum occurrences for Commentaire clusters\n",
    "threshold_similarity = 90     # Rapidfuzz similarity %\n",
    "max_typo_chars = 4            # Levenshtein distance tolerance\n",
    "test_rows = None              # set e.g., 100 for small test\n",
    "fuzzy_match_threshold = 85    # for row-wise correlation\n",
    "checkpoint_every = 50         # save intermediate CSV every N clusters\n",
    "\n",
    "# ---------- HELPERS ----------\n",
    "def normalize_text(s):\n",
    "    if pd.isna(s):\n",
    "        return \"\"\n",
    "    s = str(s)\n",
    "    s = unicodedata.normalize(\"NFC\", s)\n",
    "    s = s.replace('\\xa0', ' ')\n",
    "    return s.strip()\n",
    "\n",
    "def clean_words(text):\n",
    "    if not text:\n",
    "        return []\n",
    "    text = normalize_text(text).lower()\n",
    "    text = re.sub(r'[^a-z0-9\\s]', ' ', text)\n",
    "    words = text.split()\n",
    "    return [w for w in words if len(w) > 1]\n",
    "\n",
    "def generate_clusters_from_words(words, min_len=min_words, max_len=max_words):\n",
    "    clusters = []\n",
    "    L = len(words)\n",
    "    for n in range(min_len, min(max_len, L) + 1):\n",
    "        for i in range(L - n + 1):\n",
    "            clusters.append(' '.join(words[i:i+n]))\n",
    "    return clusters\n",
    "\n",
    "def join_variations_with_counts(variants, counter, delim=' | '):\n",
    "    return delim.join([f\"{v} ({counter.get(v,0)})\" for v in variants])\n",
    "\n",
    "def fuzzy_row_match(text, variants, threshold=85):\n",
    "    text = str(text).lower()\n",
    "    for v in variants:\n",
    "        if fuzz.partial_ratio(text, v.lower()) >= threshold:\n",
    "            return True\n",
    "    return False\n",
    "\n",
    "# ---------- 1. LOAD CSV ----------\n",
    "df = pd.read_csv(csv_file, delimiter=';', dtype=str)\n",
    "df.columns = [normalize_text(c) for c in df.columns]\n",
    "\n",
    "if comment_col not in df.columns or type_col not in df.columns:\n",
    "    raise KeyError(\n",
    "        f\"Expected columns '{comment_col}' and '{type_col}' not found. \"\n",
    "        f\"Available columns: {df.columns.tolist()}\"\n",
    "    )\n",
    "\n",
    "df[comment_col] = df[comment_col].astype(str)\n",
    "df[type_col] = df[type_col].astype(str)\n",
    "\n",
    "# optional test subset\n",
    "if test_rows:\n",
    "    df = df.head(test_rows)\n",
    "\n",
    "# ---------- 2. EXTRACT COMMENTAIRE CLUSTERS ----------\n",
    "all_comment_clusters = []\n",
    "for text in tqdm(df[comment_col], desc=\"Extracting Commentaire clusters\"):\n",
    "    words = clean_words(text)\n",
    "    clusters = generate_clusters_from_words(words, min_words, max_words)\n",
    "    all_comment_clusters.extend(clusters)\n",
    "\n",
    "cluster_counter = Counter(all_comment_clusters)\n",
    "total_cluster_instances = sum(cluster_counter.values())\n",
    "candidates = {k:v for k,v in cluster_counter.items() if v >= comment_min_occurrences}\n",
    "print(f\"Found {len(candidates)} unique Commentaire candidate clusters (≥{comment_min_occurrences} occurrences)\")\n",
    "\n",
    "# ---------- 3. FUZZY CLUSTERING ----------\n",
    "cluster_groups = {}\n",
    "for cluster in tqdm(candidates.keys(), desc=\"Fuzzy clustering Commentaire\"):\n",
    "    found = False\n",
    "    for rep in list(cluster_groups.keys()):\n",
    "        sim = fuzz.ratio(cluster, rep)\n",
    "        edit_d = Levenshtein.distance(cluster, rep)\n",
    "        if sim >= threshold_similarity or edit_d <= max_typo_chars:\n",
    "            cluster_groups[rep].append(cluster)\n",
    "            found = True\n",
    "            break\n",
    "    if not found:\n",
    "        cluster_groups[cluster] = [cluster]\n",
    "\n",
    "# ---------- 4. AGGREGATE COMMENTAIRE CLUSTERS ----------\n",
    "comment_summary_rows = []\n",
    "for rep, variants in cluster_groups.items():\n",
    "    cnt = sum(cluster_counter.get(v,0) for v in variants)\n",
    "    per_mille = round(cnt / total_cluster_instances * 1000, 2) if total_cluster_instances > 0 else 0\n",
    "    variations_text = join_variations_with_counts(variants, cluster_counter, delim=' | ')\n",
    "    comment_summary_rows.append({\n",
    "        \"Cluster_Representative\": rep,\n",
    "        \"Count\": cnt,\n",
    "        \"Variations\": variations_text,\n",
    "        \"PerMille\": per_mille\n",
    "    })\n",
    "\n",
    "comment_summary_df = pd.DataFrame(comment_summary_rows).sort_values(by=\"Count\", ascending=False)\n",
    "comment_summary_df.to_csv(\"commentaire_clusters_summary.csv\", sep=';', index=False)\n",
    "print(\"Saved 'commentaire_clusters_summary.csv' with\", len(comment_summary_df), \"rows.\")\n",
    "\n",
    "# ---------- 5. DEBUG: SAMPLE CLUSTERS ----------\n",
    "print(\"\\nSample clusters:\")\n",
    "for i,(rep, variants) in enumerate(list(cluster_groups.items())[:10]):\n",
    "    print(f\"{i+1}. Rep: {rep}, Variants: {variants}, Total Count: {sum(cluster_counter[v] for v in variants)}\")\n",
    "\n",
    "# ---------- 6. VECTORIZE ROW-WISE CORRELATION WITH CHECKPOINTS ----------\n",
    "print(\"\\nCorrelating Type de constatation Texte to Commentaire clusters (vectorized)...\")\n",
    "comment_texts = df[comment_col].str.lower().tolist()\n",
    "type_values = df[type_col].tolist()\n",
    "corr_rows = []\n",
    "\n",
    "for i, (rep, variants) in enumerate(tqdm(cluster_groups.items(), desc=\"Vectorized correlation\")):\n",
    "    matches = process.cdist([rep], comment_texts, scorer=fuzz.partial_ratio)\n",
    "    matched_indices = [j for j, score in enumerate(matches[0]) if score >= fuzzy_match_threshold]\n",
    "    if not matched_indices:\n",
    "        continue\n",
    "    matched_types = [type_values[j] for j in matched_indices]\n",
    "    type_counts = Counter(matched_types)\n",
    "    total_type_count = sum(type_counts.values())\n",
    "    for t_val, t_cnt in type_counts.items():\n",
    "        t_per_mille = round(t_cnt / total_type_count * 1000, 2)\n",
    "        corr_rows.append({\n",
    "            \"Commentaire_Cluster\": rep,\n",
    "            \"Commentaire_Variations\": join_variations_with_counts(variants, cluster_counter, delim=' | '),\n",
    "            \"Commentaire_Count\": sum(cluster_counter.get(v,0) for v in variants),\n",
    "            \"Type_Value\": t_val,\n",
    "            \"Type_Count\": t_cnt,\n",
    "            \"Type_PerMille\": t_per_mille\n",
    "        })\n",
    "\n",
    "    # === CHECKPOINT ===\n",
    "    if (i+1) % checkpoint_every == 0:\n",
    "        partial_df = pd.DataFrame(corr_rows)\n",
    "        partial_df.to_csv(f\"partial_corr_checkpoint_{i+1}.csv\", sep=';', index=False)\n",
    "        print(f\"Checkpoint at cluster {i+1}: saved {len(partial_df)} rows.\")\n",
    "        print(partial_df.head(5))\n",
    "        # Optional: stop after checkpoint for inspection\n",
    "        # break\n",
    "\n",
    "# ---------- 7. SAVE FINAL CORRELATIONS ----------\n",
    "corr_df = pd.DataFrame(corr_rows)\n",
    "if corr_df.empty:\n",
    "    print(\"No correlations produced.\")\n",
    "    corr_df = pd.DataFrame(columns=[\n",
    "        \"Commentaire_Cluster\",\n",
    "        \"Commentaire_Variations\",\n",
    "        \"Commentaire_Count\",\n",
    "        \"Type_Value\",\n",
    "        \"Type_Count\",\n",
    "        \"Type_PerMille\"\n",
    "    ])\n",
    "corr_df.to_csv(\"commentaire_type_correlations.csv\", sep=';', index=False)\n",
    "print(\"Saved 'commentaire_type_correlations.csv' with\", len(corr_df), \"rows.\")\n",
    "\n",
    "# ---------- 8. DEBUG: SAMPLE CORRELATIONS ----------\n",
    "print(\"\\nSample correlations:\")\n",
    "print(corr_df.head(10))\n",
    "\n",
    "# ---------- 9. ROW COVERAGE CHECK ----------\n",
    "matched_rows_total = set()\n",
    "for rep in cluster_groups.keys():\n",
    "    matches = process.cdist([rep], comment_texts, scorer=fuzz.partial_ratio)\n",
    "    matched_indices = [i for i, score in enumerate(matches[0]) if score >= fuzzy_match_threshold]\n",
    "    matched_rows_total.update(matched_indices)\n",
    "print(f\"\\nRows matched by clusters: {len(matched_rows_total)} out of {len(df)}\")\n"
   ]
  },
  {
   "cell_type": "code",
   "execution_count": null,
   "id": "7e5f9ffd-f166-4ae1-9a3f-b25a2d1ac570",
   "metadata": {},
   "outputs": [],
   "source": []
  }
 ],
 "metadata": {
  "kernelspec": {
   "display_name": "Python 3 (ipykernel)",
   "language": "python",
   "name": "python3"
  },
  "language_info": {
   "codemirror_mode": {
    "name": "ipython",
    "version": 3
   },
   "file_extension": ".py",
   "mimetype": "text/x-python",
   "name": "python",
   "nbconvert_exporter": "python",
   "pygments_lexer": "ipython3",
   "version": "3.13.5"
  }
 },
 "nbformat": 4,
 "nbformat_minor": 5
}
